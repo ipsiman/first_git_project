{
 "cells": [
  {
   "cell_type": "markdown",
   "metadata": {
    "toc": true
   },
   "source": [
    "<h1>Содержание<span class=\"tocSkip\"></span></h1>\n",
    "<div class=\"toc\"><ul class=\"toc-item\"><li><span><a href=\"#Подготовка-данных\" data-toc-modified-id=\"Подготовка-данных-1\"><span class=\"toc-item-num\">1&nbsp;&nbsp;</span>Подготовка данных</a></span><ul class=\"toc-item\"><li><span><a href=\"#Разделим-данные-на-выборки\" data-toc-modified-id=\"Разделим-данные-на-выборки-1.1\"><span class=\"toc-item-num\">1.1&nbsp;&nbsp;</span>Разделим данные на выборки</a></span></li><li><span><a href=\"#Краткий-вывод\" data-toc-modified-id=\"Краткий-вывод-1.2\"><span class=\"toc-item-num\">1.2&nbsp;&nbsp;</span>Краткий вывод</a></span></li></ul></li><li><span><a href=\"#Исследование-задачи\" data-toc-modified-id=\"Исследование-задачи-2\"><span class=\"toc-item-num\">2&nbsp;&nbsp;</span>Исследование задачи</a></span><ul class=\"toc-item\"><li><span><a href=\"#Модель-&quot;Логистическая-регрессия&quot;\" data-toc-modified-id=\"Модель-&quot;Логистическая-регрессия&quot;-2.1\"><span class=\"toc-item-num\">2.1&nbsp;&nbsp;</span>Модель \"Логистическая регрессия\"</a></span></li><li><span><a href=\"#Модель-&quot;Дерево-решений&quot;\" data-toc-modified-id=\"Модель-&quot;Дерево-решений&quot;-2.2\"><span class=\"toc-item-num\">2.2&nbsp;&nbsp;</span>Модель \"Дерево решений\"</a></span></li><li><span><a href=\"#Модель-&quot;Случайный-лес&quot;\" data-toc-modified-id=\"Модель-&quot;Случайный-лес&quot;-2.3\"><span class=\"toc-item-num\">2.3&nbsp;&nbsp;</span>Модель \"Случайный лес\"</a></span></li><li><span><a href=\"#Краткий-вывод\" data-toc-modified-id=\"Краткий-вывод-2.4\"><span class=\"toc-item-num\">2.4&nbsp;&nbsp;</span>Краткий вывод</a></span></li></ul></li><li><span><a href=\"#Борьба-с-дисбалансом\" data-toc-modified-id=\"Борьба-с-дисбалансом-3\"><span class=\"toc-item-num\">3&nbsp;&nbsp;</span>Борьба с дисбалансом</a></span><ul class=\"toc-item\"><li><span><a href=\"#Модель-&quot;Логистическая-регрессия&quot;\" data-toc-modified-id=\"Модель-&quot;Логистическая-регрессия&quot;-3.1\"><span class=\"toc-item-num\">3.1&nbsp;&nbsp;</span>Модель \"Логистическая регрессия\"</a></span></li><li><span><a href=\"#Модель-&quot;Дерево-решений&quot;\" data-toc-modified-id=\"Модель-&quot;Дерево-решений&quot;-3.2\"><span class=\"toc-item-num\">3.2&nbsp;&nbsp;</span>Модель \"Дерево решений\"</a></span></li><li><span><a href=\"#Модель-&quot;Случайный-лес&quot;\" data-toc-modified-id=\"Модель-&quot;Случайный-лес&quot;-3.3\"><span class=\"toc-item-num\">3.3&nbsp;&nbsp;</span>Модель \"Случайный лес\"</a></span></li><li><span><a href=\"#Краткий-вывод\" data-toc-modified-id=\"Краткий-вывод-3.4\"><span class=\"toc-item-num\">3.4&nbsp;&nbsp;</span>Краткий вывод</a></span></li></ul></li><li><span><a href=\"#Тестирование-модели\" data-toc-modified-id=\"Тестирование-модели-4\"><span class=\"toc-item-num\">4&nbsp;&nbsp;</span>Тестирование модели</a></span></li><li><span><a href=\"#Вывод\" data-toc-modified-id=\"Вывод-5\"><span class=\"toc-item-num\">5&nbsp;&nbsp;</span>Вывод</a></span></li></ul></div>"
   ]
  },
  {
   "cell_type": "markdown",
   "metadata": {},
   "source": [
    "# Отток клиентов"
   ]
  },
  {
   "cell_type": "markdown",
   "metadata": {},
   "source": [
    "Из «Бета-Банка» стали уходить клиенты. Каждый месяц. Немного, но заметно. Банковские маркетологи посчитали: сохранять текущих клиентов дешевле, чем привлекать новых.\n",
    "\n",
    "Нужно спрогнозировать, уйдёт клиент из банка в ближайшее время или нет. Нам предоставлены исторические данные о поведении клиентов и расторжении договоров с банком. \n",
    "\n",
    "Построим модель с предельно большим значением *F1*-меры. Нужно довести метрику до 0.59. Проверим *F1*-меру на тестовой выборке.\n",
    "Дополнительно будем измерять *AUC-ROC*, сравнивая её значение с *F1*-мерой.\n",
    "\n",
    "Источник данных: [https://www.kaggle.com/barelydedicated/bank-customer-churn-modeling](https://www.kaggle.com/barelydedicated/bank-customer-churn-modeling)"
   ]
  },
  {
   "cell_type": "markdown",
   "metadata": {},
   "source": [
    "<b>Описание данных:</b><br>\n",
    "<i>Признаки</i><br>\n",
    "- `RowNumber` — индекс строки в данных<br>\n",
    "- `CustomerId` — уникальный идентификатор клиента<br>\n",
    "- `Surname` — фамилия<br>\n",
    "- `CreditScore` — кредитный рейтинг<br>\n",
    "- `Geography` — страна проживания<br>\n",
    "- `Gender` — пол<br>\n",
    "- `Age` — возраст<br>\n",
    "- `Tenure` — сколько лет человек является клиентом банка<br>\n",
    "- `Balance` — баланс на счёте<br>\n",
    "- `NumOfProducts` — количество продуктов банка, используемых клиентом<br>\n",
    "- `HasCrCard` — наличие кредитной карты<br>\n",
    "- `IsActiveMember` — активность клиента<br>\n",
    "- `EstimatedSalary` — предполагаемая зарплата<br>\n",
    "\n",
    "<i>Целевой признак</i><br>\n",
    "- `Exited` — факт ухода клиента"
   ]
  },
  {
   "cell_type": "markdown",
   "metadata": {},
   "source": [
    "<b>План работы:</b><br>\n",
    "- Загрузим и подготовим данные.\n",
    "- Исследуем баланс классов и обучим модель без учёта дисбаланса.\n",
    "- Улучшим качество модели, учитывая дисбаланс классов. Обучим разные модели и найдем лучшую. \n",
    "- В конце проведем финальное тестирование."
   ]
  },
  {
   "cell_type": "markdown",
   "metadata": {},
   "source": [
    "## Подготовка данных"
   ]
  },
  {
   "cell_type": "code",
   "execution_count": 2,
   "metadata": {},
   "outputs": [],
   "source": [
    "import pandas as pd\n",
    "import matplotlib.pyplot as plt\n",
    "\n",
    "from sklearn.linear_model import LogisticRegression\n",
    "from sklearn.tree import DecisionTreeClassifier\n",
    "from sklearn.ensemble import RandomForestClassifier\n",
    "\n",
    "from sklearn.model_selection import train_test_split\n",
    "from sklearn.model_selection import GridSearchCV\n",
    "from sklearn.metrics import f1_score\n",
    "from sklearn.metrics import roc_auc_score\n",
    "from sklearn.metrics import roc_curve\n",
    "from sklearn.utils import shuffle\n",
    "from sklearn.preprocessing import StandardScaler\n",
    "from tqdm.notebook import trange"
   ]
  },
  {
   "cell_type": "markdown",
   "metadata": {},
   "source": [
    "Откроем файл и изучим данные."
   ]
  },
  {
   "cell_type": "code",
   "execution_count": 3,
   "metadata": {
    "scrolled": false
   },
   "outputs": [
    {
     "name": "stdout",
     "output_type": "stream",
     "text": [
      "<class 'pandas.core.frame.DataFrame'>\n",
      "RangeIndex: 10000 entries, 0 to 9999\n",
      "Data columns (total 14 columns):\n",
      " #   Column           Non-Null Count  Dtype  \n",
      "---  ------           --------------  -----  \n",
      " 0   RowNumber        10000 non-null  int64  \n",
      " 1   CustomerId       10000 non-null  int64  \n",
      " 2   Surname          10000 non-null  object \n",
      " 3   CreditScore      10000 non-null  int64  \n",
      " 4   Geography        10000 non-null  object \n",
      " 5   Gender           10000 non-null  object \n",
      " 6   Age              10000 non-null  int64  \n",
      " 7   Tenure           9091 non-null   float64\n",
      " 8   Balance          10000 non-null  float64\n",
      " 9   NumOfProducts    10000 non-null  int64  \n",
      " 10  HasCrCard        10000 non-null  int64  \n",
      " 11  IsActiveMember   10000 non-null  int64  \n",
      " 12  EstimatedSalary  10000 non-null  float64\n",
      " 13  Exited           10000 non-null  int64  \n",
      "dtypes: float64(3), int64(8), object(3)\n",
      "memory usage: 1.1+ MB\n"
     ]
    }
   ],
   "source": [
    "df = pd.read_csv('Churn.csv', index_col=False)\n",
    "df.info()"
   ]
  },
  {
   "cell_type": "code",
   "execution_count": 3,
   "metadata": {},
   "outputs": [
    {
     "data": {
      "text/html": [
       "<div>\n",
       "<style scoped>\n",
       "    .dataframe tbody tr th:only-of-type {\n",
       "        vertical-align: middle;\n",
       "    }\n",
       "\n",
       "    .dataframe tbody tr th {\n",
       "        vertical-align: top;\n",
       "    }\n",
       "\n",
       "    .dataframe thead th {\n",
       "        text-align: right;\n",
       "    }\n",
       "</style>\n",
       "<table border=\"1\" class=\"dataframe\">\n",
       "  <thead>\n",
       "    <tr style=\"text-align: right;\">\n",
       "      <th></th>\n",
       "      <th>RowNumber</th>\n",
       "      <th>CustomerId</th>\n",
       "      <th>Surname</th>\n",
       "      <th>CreditScore</th>\n",
       "      <th>Geography</th>\n",
       "      <th>Gender</th>\n",
       "      <th>Age</th>\n",
       "      <th>Tenure</th>\n",
       "      <th>Balance</th>\n",
       "      <th>NumOfProducts</th>\n",
       "      <th>HasCrCard</th>\n",
       "      <th>IsActiveMember</th>\n",
       "      <th>EstimatedSalary</th>\n",
       "      <th>Exited</th>\n",
       "    </tr>\n",
       "  </thead>\n",
       "  <tbody>\n",
       "    <tr>\n",
       "      <th>0</th>\n",
       "      <td>1</td>\n",
       "      <td>15634602</td>\n",
       "      <td>Hargrave</td>\n",
       "      <td>619</td>\n",
       "      <td>France</td>\n",
       "      <td>Female</td>\n",
       "      <td>42</td>\n",
       "      <td>2.0</td>\n",
       "      <td>0.00</td>\n",
       "      <td>1</td>\n",
       "      <td>1</td>\n",
       "      <td>1</td>\n",
       "      <td>101348.88</td>\n",
       "      <td>1</td>\n",
       "    </tr>\n",
       "    <tr>\n",
       "      <th>1</th>\n",
       "      <td>2</td>\n",
       "      <td>15647311</td>\n",
       "      <td>Hill</td>\n",
       "      <td>608</td>\n",
       "      <td>Spain</td>\n",
       "      <td>Female</td>\n",
       "      <td>41</td>\n",
       "      <td>1.0</td>\n",
       "      <td>83807.86</td>\n",
       "      <td>1</td>\n",
       "      <td>0</td>\n",
       "      <td>1</td>\n",
       "      <td>112542.58</td>\n",
       "      <td>0</td>\n",
       "    </tr>\n",
       "    <tr>\n",
       "      <th>2</th>\n",
       "      <td>3</td>\n",
       "      <td>15619304</td>\n",
       "      <td>Onio</td>\n",
       "      <td>502</td>\n",
       "      <td>France</td>\n",
       "      <td>Female</td>\n",
       "      <td>42</td>\n",
       "      <td>8.0</td>\n",
       "      <td>159660.80</td>\n",
       "      <td>3</td>\n",
       "      <td>1</td>\n",
       "      <td>0</td>\n",
       "      <td>113931.57</td>\n",
       "      <td>1</td>\n",
       "    </tr>\n",
       "    <tr>\n",
       "      <th>3</th>\n",
       "      <td>4</td>\n",
       "      <td>15701354</td>\n",
       "      <td>Boni</td>\n",
       "      <td>699</td>\n",
       "      <td>France</td>\n",
       "      <td>Female</td>\n",
       "      <td>39</td>\n",
       "      <td>1.0</td>\n",
       "      <td>0.00</td>\n",
       "      <td>2</td>\n",
       "      <td>0</td>\n",
       "      <td>0</td>\n",
       "      <td>93826.63</td>\n",
       "      <td>0</td>\n",
       "    </tr>\n",
       "    <tr>\n",
       "      <th>4</th>\n",
       "      <td>5</td>\n",
       "      <td>15737888</td>\n",
       "      <td>Mitchell</td>\n",
       "      <td>850</td>\n",
       "      <td>Spain</td>\n",
       "      <td>Female</td>\n",
       "      <td>43</td>\n",
       "      <td>2.0</td>\n",
       "      <td>125510.82</td>\n",
       "      <td>1</td>\n",
       "      <td>1</td>\n",
       "      <td>1</td>\n",
       "      <td>79084.10</td>\n",
       "      <td>0</td>\n",
       "    </tr>\n",
       "  </tbody>\n",
       "</table>\n",
       "</div>"
      ],
      "text/plain": [
       "   RowNumber  CustomerId   Surname  CreditScore Geography  Gender  Age  \\\n",
       "0          1    15634602  Hargrave          619    France  Female   42   \n",
       "1          2    15647311      Hill          608     Spain  Female   41   \n",
       "2          3    15619304      Onio          502    France  Female   42   \n",
       "3          4    15701354      Boni          699    France  Female   39   \n",
       "4          5    15737888  Mitchell          850     Spain  Female   43   \n",
       "\n",
       "   Tenure    Balance  NumOfProducts  HasCrCard  IsActiveMember  \\\n",
       "0     2.0       0.00              1          1               1   \n",
       "1     1.0   83807.86              1          0               1   \n",
       "2     8.0  159660.80              3          1               0   \n",
       "3     1.0       0.00              2          0               0   \n",
       "4     2.0  125510.82              1          1               1   \n",
       "\n",
       "   EstimatedSalary  Exited  \n",
       "0        101348.88       1  \n",
       "1        112542.58       0  \n",
       "2        113931.57       1  \n",
       "3         93826.63       0  \n",
       "4         79084.10       0  "
      ]
     },
     "execution_count": 3,
     "metadata": {},
     "output_type": "execute_result"
    }
   ],
   "source": [
    "df.head()"
   ]
  },
  {
   "cell_type": "markdown",
   "metadata": {},
   "source": [
    "Проверим данные на пропуски и дубликаты."
   ]
  },
  {
   "cell_type": "code",
   "execution_count": 4,
   "metadata": {},
   "outputs": [
    {
     "data": {
      "text/plain": [
       "RowNumber            0\n",
       "CustomerId           0\n",
       "Surname              0\n",
       "CreditScore          0\n",
       "Geography            0\n",
       "Gender               0\n",
       "Age                  0\n",
       "Tenure             909\n",
       "Balance              0\n",
       "NumOfProducts        0\n",
       "HasCrCard            0\n",
       "IsActiveMember       0\n",
       "EstimatedSalary      0\n",
       "Exited               0\n",
       "dtype: int64"
      ]
     },
     "execution_count": 4,
     "metadata": {},
     "output_type": "execute_result"
    }
   ],
   "source": [
    "df.isna().sum()"
   ]
  },
  {
   "cell_type": "code",
   "execution_count": 5,
   "metadata": {},
   "outputs": [
    {
     "data": {
      "text/plain": [
       "0"
      ]
     },
     "execution_count": 5,
     "metadata": {},
     "output_type": "execute_result"
    }
   ],
   "source": [
    "df.duplicated().sum()"
   ]
  },
  {
   "cell_type": "markdown",
   "metadata": {},
   "source": [
    "Дубликатов нет, но в таблице есть пропуски! Нам известен источник данных, проверим данные там. При анализе источника выяснилось, что там пропуски отсутствуют. Возможно при выгрузке данных возникла ошибка. Загрузим оригинальные данные и будем работать с ними.<br>"
   ]
  },
  {
   "cell_type": "markdown",
   "metadata": {},
   "source": [
    "p.s. если это сделано специально (в рамках урока, добавлены пропуски) и нужно заполнить пропуски, то при анализе этих данных ниже видно, что распределены они почти равномерно от 0 до 10 (за исключением 0 и 10). Тогда я бы эти 909 пропусков заполнил бы рандомно/равномерно от 0 до 10. Или второй вариант - запоплить пропуски медианой."
   ]
  },
  {
   "cell_type": "code",
   "execution_count": 6,
   "metadata": {
    "scrolled": false
   },
   "outputs": [
    {
     "data": {
      "text/plain": [
       "1.0     952\n",
       "2.0     950\n",
       "8.0     933\n",
       "3.0     928\n",
       "5.0     927\n",
       "7.0     925\n",
       "4.0     885\n",
       "9.0     882\n",
       "6.0     881\n",
       "10.0    446\n",
       "0.0     382\n",
       "Name: Tenure, dtype: int64"
      ]
     },
     "execution_count": 6,
     "metadata": {},
     "output_type": "execute_result"
    }
   ],
   "source": [
    "df['Tenure'].value_counts()"
   ]
  },
  {
   "cell_type": "markdown",
   "metadata": {},
   "source": [
    "Загрузим правильные оригинальные данные без пропусков и будем работать с ними."
   ]
  },
  {
   "cell_type": "code",
   "execution_count": 7,
   "metadata": {},
   "outputs": [],
   "source": [
    "df = pd.read_csv('Churn_Modelling.csv')"
   ]
  },
  {
   "cell_type": "code",
   "execution_count": 8,
   "metadata": {},
   "outputs": [
    {
     "name": "stdout",
     "output_type": "stream",
     "text": [
      "<class 'pandas.core.frame.DataFrame'>\n",
      "RangeIndex: 10000 entries, 0 to 9999\n",
      "Data columns (total 14 columns):\n",
      " #   Column           Non-Null Count  Dtype  \n",
      "---  ------           --------------  -----  \n",
      " 0   RowNumber        10000 non-null  int64  \n",
      " 1   CustomerId       10000 non-null  int64  \n",
      " 2   Surname          10000 non-null  object \n",
      " 3   CreditScore      10000 non-null  int64  \n",
      " 4   Geography        10000 non-null  object \n",
      " 5   Gender           10000 non-null  object \n",
      " 6   Age              10000 non-null  int64  \n",
      " 7   Tenure           10000 non-null  int64  \n",
      " 8   Balance          10000 non-null  float64\n",
      " 9   NumOfProducts    10000 non-null  int64  \n",
      " 10  HasCrCard        10000 non-null  int64  \n",
      " 11  IsActiveMember   10000 non-null  int64  \n",
      " 12  EstimatedSalary  10000 non-null  float64\n",
      " 13  Exited           10000 non-null  int64  \n",
      "dtypes: float64(2), int64(9), object(3)\n",
      "memory usage: 1.1+ MB\n"
     ]
    }
   ],
   "source": [
    "df.info()"
   ]
  },
  {
   "cell_type": "code",
   "execution_count": 9,
   "metadata": {},
   "outputs": [
    {
     "data": {
      "text/plain": [
       "0"
      ]
     },
     "execution_count": 9,
     "metadata": {},
     "output_type": "execute_result"
    }
   ],
   "source": [
    "df.duplicated().sum()"
   ]
  },
  {
   "cell_type": "markdown",
   "metadata": {},
   "source": [
    "Как видим - пропусков нет!"
   ]
  },
  {
   "cell_type": "code",
   "execution_count": 10,
   "metadata": {},
   "outputs": [
    {
     "data": {
      "text/plain": [
       "2     1048\n",
       "1     1035\n",
       "7     1028\n",
       "8     1025\n",
       "5     1012\n",
       "3     1009\n",
       "4      989\n",
       "9      984\n",
       "6      967\n",
       "10     490\n",
       "0      413\n",
       "Name: Tenure, dtype: int64"
      ]
     },
     "execution_count": 10,
     "metadata": {},
     "output_type": "execute_result"
    }
   ],
   "source": [
    "df['Tenure'].value_counts()"
   ]
  },
  {
   "cell_type": "code",
   "execution_count": 11,
   "metadata": {},
   "outputs": [
    {
     "data": {
      "text/html": [
       "<div>\n",
       "<style scoped>\n",
       "    .dataframe tbody tr th:only-of-type {\n",
       "        vertical-align: middle;\n",
       "    }\n",
       "\n",
       "    .dataframe tbody tr th {\n",
       "        vertical-align: top;\n",
       "    }\n",
       "\n",
       "    .dataframe thead th {\n",
       "        text-align: right;\n",
       "    }\n",
       "</style>\n",
       "<table border=\"1\" class=\"dataframe\">\n",
       "  <thead>\n",
       "    <tr style=\"text-align: right;\">\n",
       "      <th></th>\n",
       "      <th>RowNumber</th>\n",
       "      <th>CustomerId</th>\n",
       "      <th>Surname</th>\n",
       "      <th>CreditScore</th>\n",
       "      <th>Geography</th>\n",
       "      <th>Gender</th>\n",
       "      <th>Age</th>\n",
       "      <th>Tenure</th>\n",
       "      <th>Balance</th>\n",
       "      <th>NumOfProducts</th>\n",
       "      <th>HasCrCard</th>\n",
       "      <th>IsActiveMember</th>\n",
       "      <th>EstimatedSalary</th>\n",
       "      <th>Exited</th>\n",
       "    </tr>\n",
       "  </thead>\n",
       "  <tbody>\n",
       "    <tr>\n",
       "      <th>0</th>\n",
       "      <td>1</td>\n",
       "      <td>15634602</td>\n",
       "      <td>Hargrave</td>\n",
       "      <td>619</td>\n",
       "      <td>France</td>\n",
       "      <td>Female</td>\n",
       "      <td>42</td>\n",
       "      <td>2</td>\n",
       "      <td>0.00</td>\n",
       "      <td>1</td>\n",
       "      <td>1</td>\n",
       "      <td>1</td>\n",
       "      <td>101348.88</td>\n",
       "      <td>1</td>\n",
       "    </tr>\n",
       "    <tr>\n",
       "      <th>1</th>\n",
       "      <td>2</td>\n",
       "      <td>15647311</td>\n",
       "      <td>Hill</td>\n",
       "      <td>608</td>\n",
       "      <td>Spain</td>\n",
       "      <td>Female</td>\n",
       "      <td>41</td>\n",
       "      <td>1</td>\n",
       "      <td>83807.86</td>\n",
       "      <td>1</td>\n",
       "      <td>0</td>\n",
       "      <td>1</td>\n",
       "      <td>112542.58</td>\n",
       "      <td>0</td>\n",
       "    </tr>\n",
       "    <tr>\n",
       "      <th>2</th>\n",
       "      <td>3</td>\n",
       "      <td>15619304</td>\n",
       "      <td>Onio</td>\n",
       "      <td>502</td>\n",
       "      <td>France</td>\n",
       "      <td>Female</td>\n",
       "      <td>42</td>\n",
       "      <td>8</td>\n",
       "      <td>159660.80</td>\n",
       "      <td>3</td>\n",
       "      <td>1</td>\n",
       "      <td>0</td>\n",
       "      <td>113931.57</td>\n",
       "      <td>1</td>\n",
       "    </tr>\n",
       "  </tbody>\n",
       "</table>\n",
       "</div>"
      ],
      "text/plain": [
       "   RowNumber  CustomerId   Surname  CreditScore Geography  Gender  Age  \\\n",
       "0          1    15634602  Hargrave          619    France  Female   42   \n",
       "1          2    15647311      Hill          608     Spain  Female   41   \n",
       "2          3    15619304      Onio          502    France  Female   42   \n",
       "\n",
       "   Tenure    Balance  NumOfProducts  HasCrCard  IsActiveMember  \\\n",
       "0       2       0.00              1          1               1   \n",
       "1       1   83807.86              1          0               1   \n",
       "2       8  159660.80              3          1               0   \n",
       "\n",
       "   EstimatedSalary  Exited  \n",
       "0        101348.88       1  \n",
       "1        112542.58       0  \n",
       "2        113931.57       1  "
      ]
     },
     "execution_count": 11,
     "metadata": {},
     "output_type": "execute_result"
    }
   ],
   "source": [
    "df.head(3)"
   ]
  },
  {
   "cell_type": "markdown",
   "metadata": {},
   "source": [
    "В таблице есть данные, которые нам не нужны для исследования и обучения модели - колонки RowNumber, CustomerId и Surname. Удалим их."
   ]
  },
  {
   "cell_type": "code",
   "execution_count": 12,
   "metadata": {},
   "outputs": [],
   "source": [
    "df.drop(columns=['RowNumber', 'CustomerId', 'Surname'], axis = 1, inplace=True)"
   ]
  },
  {
   "cell_type": "code",
   "execution_count": 13,
   "metadata": {},
   "outputs": [
    {
     "data": {
      "text/html": [
       "<div>\n",
       "<style scoped>\n",
       "    .dataframe tbody tr th:only-of-type {\n",
       "        vertical-align: middle;\n",
       "    }\n",
       "\n",
       "    .dataframe tbody tr th {\n",
       "        vertical-align: top;\n",
       "    }\n",
       "\n",
       "    .dataframe thead th {\n",
       "        text-align: right;\n",
       "    }\n",
       "</style>\n",
       "<table border=\"1\" class=\"dataframe\">\n",
       "  <thead>\n",
       "    <tr style=\"text-align: right;\">\n",
       "      <th></th>\n",
       "      <th>CreditScore</th>\n",
       "      <th>Geography</th>\n",
       "      <th>Gender</th>\n",
       "      <th>Age</th>\n",
       "      <th>Tenure</th>\n",
       "      <th>Balance</th>\n",
       "      <th>NumOfProducts</th>\n",
       "      <th>HasCrCard</th>\n",
       "      <th>IsActiveMember</th>\n",
       "      <th>EstimatedSalary</th>\n",
       "      <th>Exited</th>\n",
       "    </tr>\n",
       "  </thead>\n",
       "  <tbody>\n",
       "    <tr>\n",
       "      <th>0</th>\n",
       "      <td>619</td>\n",
       "      <td>France</td>\n",
       "      <td>Female</td>\n",
       "      <td>42</td>\n",
       "      <td>2</td>\n",
       "      <td>0.00</td>\n",
       "      <td>1</td>\n",
       "      <td>1</td>\n",
       "      <td>1</td>\n",
       "      <td>101348.88</td>\n",
       "      <td>1</td>\n",
       "    </tr>\n",
       "    <tr>\n",
       "      <th>1</th>\n",
       "      <td>608</td>\n",
       "      <td>Spain</td>\n",
       "      <td>Female</td>\n",
       "      <td>41</td>\n",
       "      <td>1</td>\n",
       "      <td>83807.86</td>\n",
       "      <td>1</td>\n",
       "      <td>0</td>\n",
       "      <td>1</td>\n",
       "      <td>112542.58</td>\n",
       "      <td>0</td>\n",
       "    </tr>\n",
       "  </tbody>\n",
       "</table>\n",
       "</div>"
      ],
      "text/plain": [
       "   CreditScore Geography  Gender  Age  Tenure   Balance  NumOfProducts  \\\n",
       "0          619    France  Female   42       2      0.00              1   \n",
       "1          608     Spain  Female   41       1  83807.86              1   \n",
       "\n",
       "   HasCrCard  IsActiveMember  EstimatedSalary  Exited  \n",
       "0          1               1        101348.88       1  \n",
       "1          0               1        112542.58       0  "
      ]
     },
     "execution_count": 13,
     "metadata": {},
     "output_type": "execute_result"
    }
   ],
   "source": [
    "df.head(2)"
   ]
  },
  {
   "cell_type": "code",
   "execution_count": 14,
   "metadata": {},
   "outputs": [
    {
     "data": {
      "text/plain": [
       "CreditScore          int64\n",
       "Geography           object\n",
       "Gender              object\n",
       "Age                  int64\n",
       "Tenure               int64\n",
       "Balance            float64\n",
       "NumOfProducts        int64\n",
       "HasCrCard            int64\n",
       "IsActiveMember       int64\n",
       "EstimatedSalary    float64\n",
       "Exited               int64\n",
       "dtype: object"
      ]
     },
     "execution_count": 14,
     "metadata": {},
     "output_type": "execute_result"
    }
   ],
   "source": [
    "df.dtypes"
   ]
  },
  {
   "cell_type": "markdown",
   "metadata": {},
   "source": [
    "Проверим на уникальность и неявные дубликаты."
   ]
  },
  {
   "cell_type": "code",
   "execution_count": 15,
   "metadata": {},
   "outputs": [
    {
     "name": "stdout",
     "output_type": "stream",
     "text": [
      "['France' 'Spain' 'Germany']\n",
      "['Female' 'Male']\n"
     ]
    }
   ],
   "source": [
    "print(df['Geography'].unique())\n",
    "print(df['Gender'].unique())"
   ]
  },
  {
   "cell_type": "markdown",
   "metadata": {},
   "source": [
    "У нас есть 2 колонки с категориальными признаками, обработаем их методом OHE (One-Hot Encoding). Техникой OHE категориальные признаки переводятся в численные. Чтобы не попасть в дамми-ловушку удалим лишние столбцы."
   ]
  },
  {
   "cell_type": "code",
   "execution_count": 16,
   "metadata": {},
   "outputs": [],
   "source": [
    "df = pd.get_dummies(df, drop_first=True)"
   ]
  },
  {
   "cell_type": "code",
   "execution_count": 17,
   "metadata": {
    "scrolled": false
   },
   "outputs": [
    {
     "data": {
      "text/html": [
       "<div>\n",
       "<style scoped>\n",
       "    .dataframe tbody tr th:only-of-type {\n",
       "        vertical-align: middle;\n",
       "    }\n",
       "\n",
       "    .dataframe tbody tr th {\n",
       "        vertical-align: top;\n",
       "    }\n",
       "\n",
       "    .dataframe thead th {\n",
       "        text-align: right;\n",
       "    }\n",
       "</style>\n",
       "<table border=\"1\" class=\"dataframe\">\n",
       "  <thead>\n",
       "    <tr style=\"text-align: right;\">\n",
       "      <th></th>\n",
       "      <th>CreditScore</th>\n",
       "      <th>Age</th>\n",
       "      <th>Tenure</th>\n",
       "      <th>Balance</th>\n",
       "      <th>NumOfProducts</th>\n",
       "      <th>HasCrCard</th>\n",
       "      <th>IsActiveMember</th>\n",
       "      <th>EstimatedSalary</th>\n",
       "      <th>Exited</th>\n",
       "      <th>Geography_Germany</th>\n",
       "      <th>Geography_Spain</th>\n",
       "      <th>Gender_Male</th>\n",
       "    </tr>\n",
       "  </thead>\n",
       "  <tbody>\n",
       "    <tr>\n",
       "      <th>0</th>\n",
       "      <td>619</td>\n",
       "      <td>42</td>\n",
       "      <td>2</td>\n",
       "      <td>0.00</td>\n",
       "      <td>1</td>\n",
       "      <td>1</td>\n",
       "      <td>1</td>\n",
       "      <td>101348.88</td>\n",
       "      <td>1</td>\n",
       "      <td>0</td>\n",
       "      <td>0</td>\n",
       "      <td>0</td>\n",
       "    </tr>\n",
       "    <tr>\n",
       "      <th>1</th>\n",
       "      <td>608</td>\n",
       "      <td>41</td>\n",
       "      <td>1</td>\n",
       "      <td>83807.86</td>\n",
       "      <td>1</td>\n",
       "      <td>0</td>\n",
       "      <td>1</td>\n",
       "      <td>112542.58</td>\n",
       "      <td>0</td>\n",
       "      <td>0</td>\n",
       "      <td>1</td>\n",
       "      <td>0</td>\n",
       "    </tr>\n",
       "  </tbody>\n",
       "</table>\n",
       "</div>"
      ],
      "text/plain": [
       "   CreditScore  Age  Tenure   Balance  NumOfProducts  HasCrCard  \\\n",
       "0          619   42       2      0.00              1          1   \n",
       "1          608   41       1  83807.86              1          0   \n",
       "\n",
       "   IsActiveMember  EstimatedSalary  Exited  Geography_Germany  \\\n",
       "0               1        101348.88       1                  0   \n",
       "1               1        112542.58       0                  0   \n",
       "\n",
       "   Geography_Spain  Gender_Male  \n",
       "0                0            0  \n",
       "1                1            0  "
      ]
     },
     "execution_count": 17,
     "metadata": {},
     "output_type": "execute_result"
    }
   ],
   "source": [
    "df.head(2)"
   ]
  },
  {
   "cell_type": "markdown",
   "metadata": {},
   "source": [
    "### Разделим данные на выборки"
   ]
  },
  {
   "cell_type": "markdown",
   "metadata": {},
   "source": [
    "Разделим данные по признакам - общие и целевые"
   ]
  },
  {
   "cell_type": "code",
   "execution_count": 18,
   "metadata": {},
   "outputs": [],
   "source": [
    "features, target = df.drop('Exited', axis=1), df['Exited']"
   ]
  },
  {
   "cell_type": "markdown",
   "metadata": {},
   "source": [
    "Теперь выделим 3 выборки - обучающую, валидационную и тестовую в соотношении 3:1:1"
   ]
  },
  {
   "cell_type": "code",
   "execution_count": 19,
   "metadata": {},
   "outputs": [],
   "source": [
    "features_train, features_test, target_train, target_test = train_test_split(\n",
    "    features, target, test_size=0.4, random_state=333, stratify=target)"
   ]
  },
  {
   "cell_type": "code",
   "execution_count": 20,
   "metadata": {},
   "outputs": [],
   "source": [
    "features_valid, features_test, target_valid, target_test = train_test_split(\n",
    "    features_test, target_test, test_size=0.5, random_state=333, stratify=target_test)"
   ]
  },
  {
   "cell_type": "code",
   "execution_count": 21,
   "metadata": {
    "scrolled": true
   },
   "outputs": [
    {
     "data": {
      "text/html": [
       "<div>\n",
       "<style scoped>\n",
       "    .dataframe tbody tr th:only-of-type {\n",
       "        vertical-align: middle;\n",
       "    }\n",
       "\n",
       "    .dataframe tbody tr th {\n",
       "        vertical-align: top;\n",
       "    }\n",
       "\n",
       "    .dataframe thead th {\n",
       "        text-align: right;\n",
       "    }\n",
       "</style>\n",
       "<table border=\"1\" class=\"dataframe\">\n",
       "  <thead>\n",
       "    <tr style=\"text-align: right;\">\n",
       "      <th></th>\n",
       "      <th>data_all</th>\n",
       "      <th>data_train</th>\n",
       "      <th>data_valid</th>\n",
       "      <th>data_test</th>\n",
       "    </tr>\n",
       "  </thead>\n",
       "  <tbody>\n",
       "    <tr>\n",
       "      <th>0</th>\n",
       "      <td>10000</td>\n",
       "      <td>6000</td>\n",
       "      <td>2000</td>\n",
       "      <td>2000</td>\n",
       "    </tr>\n",
       "  </tbody>\n",
       "</table>\n",
       "</div>"
      ],
      "text/plain": [
       "   data_all  data_train  data_valid  data_test\n",
       "0     10000        6000        2000       2000"
      ]
     },
     "execution_count": 21,
     "metadata": {},
     "output_type": "execute_result"
    }
   ],
   "source": [
    "pd.DataFrame({\n",
    "    'data_all': [features.shape[0]],\n",
    "    'data_train': [features_train.shape[0]],\n",
    "    'data_valid': [features_valid.shape[0]],\n",
    "    'data_test': [features_test.shape[0]]\n",
    "})"
   ]
  },
  {
   "cell_type": "markdown",
   "metadata": {},
   "source": [
    "Получили нужное разделение."
   ]
  },
  {
   "cell_type": "markdown",
   "metadata": {},
   "source": [
    "Сделаем стандартизацию данных (масштабирование численных признаков)."
   ]
  },
  {
   "cell_type": "code",
   "execution_count": 22,
   "metadata": {},
   "outputs": [],
   "source": [
    "numeric = ['CreditScore', 'Age', 'Tenure', 'Balance', 'NumOfProducts', 'EstimatedSalary']\n",
    "\n",
    "pd.options.mode.chained_assignment = None\n",
    "scaler = StandardScaler()\n",
    "scaler.fit(features_train[numeric])\n",
    "features_train[numeric] = scaler.transform(features_train[numeric])\n",
    "features_valid[numeric] = scaler.transform(features_valid[numeric])\n",
    "features_test[numeric] = scaler.transform(features_test[numeric])"
   ]
  },
  {
   "cell_type": "code",
   "execution_count": 23,
   "metadata": {
    "scrolled": true
   },
   "outputs": [
    {
     "data": {
      "text/html": [
       "<div>\n",
       "<style scoped>\n",
       "    .dataframe tbody tr th:only-of-type {\n",
       "        vertical-align: middle;\n",
       "    }\n",
       "\n",
       "    .dataframe tbody tr th {\n",
       "        vertical-align: top;\n",
       "    }\n",
       "\n",
       "    .dataframe thead th {\n",
       "        text-align: right;\n",
       "    }\n",
       "</style>\n",
       "<table border=\"1\" class=\"dataframe\">\n",
       "  <thead>\n",
       "    <tr style=\"text-align: right;\">\n",
       "      <th></th>\n",
       "      <th>CreditScore</th>\n",
       "      <th>Age</th>\n",
       "      <th>Tenure</th>\n",
       "      <th>Balance</th>\n",
       "      <th>NumOfProducts</th>\n",
       "      <th>HasCrCard</th>\n",
       "      <th>IsActiveMember</th>\n",
       "      <th>EstimatedSalary</th>\n",
       "      <th>Geography_Germany</th>\n",
       "      <th>Geography_Spain</th>\n",
       "      <th>Gender_Male</th>\n",
       "    </tr>\n",
       "  </thead>\n",
       "  <tbody>\n",
       "    <tr>\n",
       "      <th>9433</th>\n",
       "      <td>-0.076051</td>\n",
       "      <td>0.012607</td>\n",
       "      <td>0.691825</td>\n",
       "      <td>-1.221219</td>\n",
       "      <td>0.808030</td>\n",
       "      <td>1</td>\n",
       "      <td>1</td>\n",
       "      <td>1.214939</td>\n",
       "      <td>0</td>\n",
       "      <td>0</td>\n",
       "      <td>1</td>\n",
       "    </tr>\n",
       "    <tr>\n",
       "      <th>6818</th>\n",
       "      <td>0.492383</td>\n",
       "      <td>0.201717</td>\n",
       "      <td>-0.685855</td>\n",
       "      <td>0.226459</td>\n",
       "      <td>-0.911793</td>\n",
       "      <td>1</td>\n",
       "      <td>1</td>\n",
       "      <td>-1.491601</td>\n",
       "      <td>0</td>\n",
       "      <td>0</td>\n",
       "      <td>1</td>\n",
       "    </tr>\n",
       "  </tbody>\n",
       "</table>\n",
       "</div>"
      ],
      "text/plain": [
       "      CreditScore       Age    Tenure   Balance  NumOfProducts  HasCrCard  \\\n",
       "9433    -0.076051  0.012607  0.691825 -1.221219       0.808030          1   \n",
       "6818     0.492383  0.201717 -0.685855  0.226459      -0.911793          1   \n",
       "\n",
       "      IsActiveMember  EstimatedSalary  Geography_Germany  Geography_Spain  \\\n",
       "9433               1         1.214939                  0                0   \n",
       "6818               1        -1.491601                  0                0   \n",
       "\n",
       "      Gender_Male  \n",
       "9433            1  \n",
       "6818            1  "
      ]
     },
     "execution_count": 23,
     "metadata": {},
     "output_type": "execute_result"
    }
   ],
   "source": [
    "features_train.head(2)"
   ]
  },
  {
   "cell_type": "markdown",
   "metadata": {},
   "source": [
    "### Краткий вывод"
   ]
  },
  {
   "cell_type": "markdown",
   "metadata": {},
   "source": [
    "Открыли файл и изучили данные. Найдены пропуски в данных, загрузили оригинальные данные без пропусков. Удалили не нужные колонки данных. Колонки с категориальными данными перевели перевели в численные. Сделали стандартизацию данных (масштабирование численных признаков). Разделили данные на выборки."
   ]
  },
  {
   "cell_type": "markdown",
   "metadata": {},
   "source": [
    "## Исследование задачи"
   ]
  },
  {
   "cell_type": "markdown",
   "metadata": {},
   "source": [
    "Проверим сбалансированность классов в таргете"
   ]
  },
  {
   "cell_type": "code",
   "execution_count": 24,
   "metadata": {
    "scrolled": false
   },
   "outputs": [
    {
     "data": {
      "text/plain": [
       "0    7963\n",
       "1    2037\n",
       "Name: Exited, dtype: int64"
      ]
     },
     "execution_count": 24,
     "metadata": {},
     "output_type": "execute_result"
    }
   ],
   "source": [
    "df['Exited'].value_counts()"
   ]
  },
  {
   "cell_type": "code",
   "execution_count": 25,
   "metadata": {},
   "outputs": [
    {
     "data": {
      "image/png": "[encoded data removed]",
      "text/plain": [
       "<Figure size 576x576 with 1 Axes>"
      ]
     },
     "metadata": {},
     "output_type": "display_data"
    }
   ],
   "source": [
    "plt.rcParams.update({'font.size': 14})\n",
    "\n",
    "plt.figure(figsize=(8, 8))\n",
    "df['Exited'].value_counts().plot(\n",
    "    kind='pie',\n",
    "    autopct='%1.0f%%',\n",
    "    colors=['skyblue', 'orange'],\n",
    "    explode=(0.05, 0.05))\n",
    "plt.title('Дисбаланс таргет классов')\n",
    "plt.show()"
   ]
  },
  {
   "cell_type": "markdown",
   "metadata": {},
   "source": [
    "Сбалансированность классов в таргете 80/20."
   ]
  },
  {
   "cell_type": "markdown",
   "metadata": {},
   "source": [
    "### Модель \"Логистическая регрессия\""
   ]
  },
  {
   "cell_type": "markdown",
   "metadata": {},
   "source": [
    "Рассмотрим модель <b>\"Логистической регрессия\"</b>."
   ]
  },
  {
   "cell_type": "code",
   "execution_count": 26,
   "metadata": {
    "scrolled": true
   },
   "outputs": [],
   "source": [
    "log_model = LogisticRegression(random_state=333, solver='lbfgs', max_iter=1000)\n",
    "log_model.fit(features_train, target_train)\n",
    "predict_train = log_model.predict(features_train)\n",
    "predict_valid = log_model.predict(features_valid)"
   ]
  },
  {
   "cell_type": "code",
   "execution_count": 27,
   "metadata": {
    "scrolled": true
   },
   "outputs": [
    {
     "name": "stdout",
     "output_type": "stream",
     "text": [
      "f1 метрика на тренировочной выборке: 0.3097238895558223\n",
      "f1 метрика на валидационной выборке: 0.31215970961887474\n"
     ]
    }
   ],
   "source": [
    "print('f1 метрика на тренировочной выборке:', f1_score(target_train, predict_train))\n",
    "print('f1 метрика на валидационной выборке:', f1_score(target_valid, predict_valid))"
   ]
  },
  {
   "cell_type": "markdown",
   "metadata": {},
   "source": [
    "Получили маленький f1 score. Логистическая регрессия явно не подходит."
   ]
  },
  {
   "cell_type": "markdown",
   "metadata": {},
   "source": [
    "Напишем функцию отображения ROC-кривой"
   ]
  },
  {
   "cell_type": "code",
   "execution_count": 28,
   "metadata": {},
   "outputs": [],
   "source": [
    "def draw_roc(fpr, tpr):\n",
    "    plt.figure(figsize=(8, 6))\n",
    "    plt.plot([0, 1], [0, 1], linestyle='--',)\n",
    "    plt.plot(fpr, tpr)\n",
    "    plt.xlim([0.0, 1.0])\n",
    "    plt.ylim([0.0, 1.0])\n",
    "    plt.xlabel('False Positive Rate')\n",
    "    plt.ylabel('True Positive Rate')\n",
    "    plt.title('ROC-кривая')\n",
    "    plt.show()"
   ]
  },
  {
   "cell_type": "markdown",
   "metadata": {},
   "source": [
    "Посмотрим на ROC-кривую и roc-auc метрику"
   ]
  },
  {
   "cell_type": "code",
   "execution_count": 29,
   "metadata": {},
   "outputs": [],
   "source": [
    "predict_proba_one = log_model.predict_proba(features_valid)[:, 1]"
   ]
  },
  {
   "cell_type": "code",
   "execution_count": 30,
   "metadata": {
    "scrolled": false
   },
   "outputs": [
    {
     "data": {
      "image/png": "[encoded data removed]",
      "text/plain": [
       "<Figure size 576x432 with 1 Axes>"
      ]
     },
     "metadata": {
      "needs_background": "light"
     },
     "output_type": "display_data"
    }
   ],
   "source": [
    "fpr, tpr, thresholds = roc_curve(target_valid, predict_proba_one)\n",
    "draw_roc(fpr, tpr)"
   ]
  },
  {
   "cell_type": "code",
   "execution_count": 31,
   "metadata": {},
   "outputs": [
    {
     "name": "stdout",
     "output_type": "stream",
     "text": [
      "roc_auc score: 0.5874901468124938\n"
     ]
    }
   ],
   "source": [
    "print('roc_auc score:', roc_auc_score(target_valid, predict_valid))"
   ]
  },
  {
   "cell_type": "markdown",
   "metadata": {},
   "source": [
    "Метрика немного выше случайной модели, на графике это тоже хорошо видно."
   ]
  },
  {
   "cell_type": "markdown",
   "metadata": {},
   "source": [
    "### Модель \"Дерево решений\""
   ]
  },
  {
   "cell_type": "markdown",
   "metadata": {},
   "source": [
    "Рассмотрим модель <b>\"Дерево решений\"</b>. Переберем в алгоритме обучения разные варианты гиперпараметров."
   ]
  },
  {
   "cell_type": "code",
   "execution_count": 32,
   "metadata": {
    "scrolled": false
   },
   "outputs": [
    {
     "name": "stdout",
     "output_type": "stream",
     "text": [
      "CPU times: user 17.4 s, sys: 22.2 ms, total: 17.5 s\n",
      "Wall time: 17.5 s\n"
     ]
    },
    {
     "data": {
      "text/plain": [
       "GridSearchCV(cv=5, estimator=DecisionTreeClassifier(random_state=333),\n",
       "             n_jobs=-1,\n",
       "             param_grid={'max_depth': range(1, 20), 'max_features': range(3, 6),\n",
       "                         'min_samples_split': range(2, 8)},\n",
       "             scoring='f1')"
      ]
     },
     "execution_count": 32,
     "metadata": {},
     "output_type": "execute_result"
    }
   ],
   "source": [
    "%%time\n",
    "param = {\n",
    "    'max_depth': range(1, 30),\n",
    "    'min_samples_split': range(2, 10),\n",
    "    'max_features': range(3, 10)\n",
    "}\n",
    "\n",
    "tree_model = DecisionTreeClassifier(random_state=333)\n",
    "clf = GridSearchCV(tree_model, param, scoring='f1', cv=5, n_jobs=-1)\n",
    "clf.fit(features_train, target_train)"
   ]
  },
  {
   "cell_type": "code",
   "execution_count": 33,
   "metadata": {},
   "outputs": [
    {
     "name": "stdout",
     "output_type": "stream",
     "text": [
      "Лучшие параметры: {'max_depth': 8, 'max_features': 5, 'min_samples_split': 5}\n"
     ]
    }
   ],
   "source": [
    "tree_model = clf.best_estimator_\n",
    "print('Лучшие параметры:', clf.best_params_)"
   ]
  },
  {
   "cell_type": "code",
   "execution_count": 34,
   "metadata": {
    "scrolled": true
   },
   "outputs": [],
   "source": [
    "predict_train = tree_model.predict(features_train)\n",
    "predict_valid = tree_model.predict(features_valid)"
   ]
  },
  {
   "cell_type": "code",
   "execution_count": 35,
   "metadata": {
    "scrolled": true
   },
   "outputs": [
    {
     "name": "stdout",
     "output_type": "stream",
     "text": [
      "f1 метрика на тренировочной выборке: 0.6191169335274137\n",
      "f1 метрика на валидационной выборке: 0.5779685264663805\n"
     ]
    }
   ],
   "source": [
    "print('f1 метрика на тренировочной выборке:', f1_score(target_train, predict_train))\n",
    "print('f1 метрика на валидационной выборке:', f1_score(target_valid, predict_valid))"
   ]
  },
  {
   "cell_type": "markdown",
   "metadata": {},
   "source": [
    "Дерево решений показало намного лучше результат, но недостаточно хороший."
   ]
  },
  {
   "cell_type": "markdown",
   "metadata": {},
   "source": [
    "Посмотрим на ROC-кривую и roc-auc метрику"
   ]
  },
  {
   "cell_type": "code",
   "execution_count": 36,
   "metadata": {},
   "outputs": [],
   "source": [
    "predict_proba_one = tree_model.predict_proba(features_valid)[:, 1]"
   ]
  },
  {
   "cell_type": "code",
   "execution_count": 37,
   "metadata": {},
   "outputs": [
    {
     "data": {
      "image/png": "[encoded data removed]",
      "text/plain": [
       "<Figure size 576x432 with 1 Axes>"
      ]
     },
     "metadata": {
      "needs_background": "light"
     },
     "output_type": "display_data"
    }
   ],
   "source": [
    "fpr, tpr, thresholds = roc_curve(target_valid, predict_proba_one)\n",
    "\n",
    "draw_roc(fpr, tpr)"
   ]
  },
  {
   "cell_type": "code",
   "execution_count": 38,
   "metadata": {},
   "outputs": [
    {
     "name": "stdout",
     "output_type": "stream",
     "text": [
      "0.7195967583013105\n"
     ]
    }
   ],
   "source": [
    "print(roc_auc_score(target_valid, predict_valid))"
   ]
  },
  {
   "cell_type": "markdown",
   "metadata": {},
   "source": [
    "ROC AUC метрика получилась не плохая, распределение немного смещено."
   ]
  },
  {
   "cell_type": "markdown",
   "metadata": {},
   "source": [
    "### Модель \"Случайный лес\""
   ]
  },
  {
   "cell_type": "markdown",
   "metadata": {},
   "source": [
    "Далее рассмотрим модель \"случайный лес\", предположительно у нее должны получиться более высокие метрики. Переберем в алгоритме обучения разные варианты гиперпараметров."
   ]
  },
  {
   "cell_type": "code",
   "execution_count": 39,
   "metadata": {
    "scrolled": false
   },
   "outputs": [
    {
     "name": "stdout",
     "output_type": "stream",
     "text": [
      "CPU times: user 2min 14s, sys: 558 ms, total: 2min 15s\n",
      "Wall time: 2min 15s\n"
     ]
    },
    {
     "data": {
      "text/plain": [
       "GridSearchCV(cv=5, estimator=RandomForestClassifier(random_state=333),\n",
       "             n_jobs=-1,\n",
       "             param_grid={'max_depth': [6, 12, 16], 'max_features': [2, 4, 6],\n",
       "                         'n_estimators': [80, 120, 160, 240]},\n",
       "             scoring='f1')"
      ]
     },
     "execution_count": 39,
     "metadata": {},
     "output_type": "execute_result"
    }
   ],
   "source": [
    "%%time\n",
    "param = {\n",
    "    'n_estimators': [80, 120, 160, 240],\n",
    "    'max_depth': [6, 12, 16],\n",
    "    'max_features': [2, 4, 6]\n",
    "}\n",
    "\n",
    "rf_model = RandomForestClassifier(random_state=333)\n",
    "clf = GridSearchCV(rf_model, param, scoring='f1', cv=5, n_jobs=-1)\n",
    "clf.fit(features_train, target_train)"
   ]
  },
  {
   "cell_type": "code",
   "execution_count": 40,
   "metadata": {
    "scrolled": true
   },
   "outputs": [
    {
     "name": "stdout",
     "output_type": "stream",
     "text": [
      "Лучшие параметры: {'max_depth': 12, 'max_features': 6, 'n_estimators': 120}\n"
     ]
    }
   ],
   "source": [
    "rf_model = clf.best_estimator_\n",
    "print('Лучшие параметры:', clf.best_params_)"
   ]
  },
  {
   "cell_type": "code",
   "execution_count": 41,
   "metadata": {
    "scrolled": true
   },
   "outputs": [],
   "source": [
    "predict_train = rf_model.predict(features_train)\n",
    "predict_valid = rf_model.predict(features_valid)"
   ]
  },
  {
   "cell_type": "code",
   "execution_count": 42,
   "metadata": {
    "scrolled": false
   },
   "outputs": [
    {
     "name": "stdout",
     "output_type": "stream",
     "text": [
      "f1 метрика на тренировочной выборке: 0.858325666973321\n",
      "f1 метрика на валидационной выборке: 0.5877061469265368\n"
     ]
    }
   ],
   "source": [
    "print('f1 метрика на тренировочной выборке:', f1_score(target_train, predict_train))\n",
    "print('f1 метрика на валидационной выборке:', f1_score(target_valid, predict_valid))"
   ]
  },
  {
   "cell_type": "markdown",
   "metadata": {},
   "source": [
    "Получили метрику еще выше. Посмотрим на ROC-кривую и roc-auc метрику."
   ]
  },
  {
   "cell_type": "code",
   "execution_count": 43,
   "metadata": {},
   "outputs": [],
   "source": [
    "predict_proba_one = rf_model.predict_proba(features_valid)[:, 1]"
   ]
  },
  {
   "cell_type": "code",
   "execution_count": 44,
   "metadata": {
    "scrolled": false
   },
   "outputs": [
    {
     "data": {
      "image/png": "[encoded data removed]",
      "text/plain": [
       "<Figure size 576x432 with 1 Axes>"
      ]
     },
     "metadata": {
      "needs_background": "light"
     },
     "output_type": "display_data"
    }
   ],
   "source": [
    "fpr, tpr, thresholds = roc_curve(target_valid, predict_proba_one)\n",
    "\n",
    "draw_roc(fpr, tpr)"
   ]
  },
  {
   "cell_type": "code",
   "execution_count": 45,
   "metadata": {
    "scrolled": true
   },
   "outputs": [
    {
     "name": "stdout",
     "output_type": "stream",
     "text": [
      "0.7204096462705686\n"
     ]
    }
   ],
   "source": [
    "print(roc_auc_score(target_valid, predict_valid))"
   ]
  },
  {
   "cell_type": "markdown",
   "metadata": {},
   "source": [
    "Получили метрику еще больше и более ровну кривую."
   ]
  },
  {
   "cell_type": "markdown",
   "metadata": {},
   "source": [
    "### Краткий вывод"
   ]
  },
  {
   "cell_type": "markdown",
   "metadata": {},
   "source": [
    "Имеем дисбаланс таргет класса 80/20.<br>\n",
    "На не сбалансированных данных логистическая регрессия показала очень плохой результат метрики f1 score - 0.312 и roc_auc score: 0.587.<br>\n",
    "Дерево решений показало результат намного больше - f1 score - 0.578 и roc_auc score: 0.720.<br>\n",
    "Случайный лес дал самый лучший результат - f1 score - 0.587 и roc_auc score: 0.720."
   ]
  },
  {
   "cell_type": "markdown",
   "metadata": {},
   "source": [
    "## Борьба с дисбалансом"
   ]
  },
  {
   "cell_type": "markdown",
   "metadata": {},
   "source": [
    "Проведем тестирование моделей с учет дисбаланса"
   ]
  },
  {
   "cell_type": "markdown",
   "metadata": {},
   "source": [
    "### Модель \"Логистическая регрессия\""
   ]
  },
  {
   "cell_type": "markdown",
   "metadata": {},
   "source": [
    "Рассмотрим модель <b>\"Логистической регрессия\"</b>."
   ]
  },
  {
   "cell_type": "markdown",
   "metadata": {},
   "source": [
    "Попробуем уменьшение выборки (downsampling), сделаем объекты частого класса не такими частыми."
   ]
  },
  {
   "cell_type": "markdown",
   "metadata": {},
   "source": [
    "Напишем функцию уменьшения выборки:"
   ]
  },
  {
   "cell_type": "code",
   "execution_count": 46,
   "metadata": {},
   "outputs": [],
   "source": [
    "def downsample(features, target, fraction):\n",
    "    features_zeros = features[target == 0]\n",
    "    features_ones = features[target == 1]\n",
    "    target_zeros = target[target == 0]\n",
    "    target_ones = target[target == 1]\n",
    "\n",
    "    features_downsampled = pd.concat(\n",
    "        [features_zeros.sample(frac=fraction, random_state=12345)] + [features_ones])\n",
    "    target_downsampled = pd.concat(\n",
    "        [target_zeros.sample(frac=fraction, random_state=12345)] + [target_ones])\n",
    "    \n",
    "    features_downsampled, target_downsampled = shuffle(\n",
    "        features_downsampled, target_downsampled, random_state=12345)\n",
    "    \n",
    "    return features_downsampled, target_downsampled"
   ]
  },
  {
   "cell_type": "code",
   "execution_count": 47,
   "metadata": {
    "scrolled": true
   },
   "outputs": [
    {
     "name": "stdout",
     "output_type": "stream",
     "text": [
      "f1 метрика на тренировочной выборке: 0.4780735107731305\n",
      "f1 метрика на валидационной выборке: 0.47175572519083975\n"
     ]
    }
   ],
   "source": [
    "features_downsampled, target_downsampled = downsample(features_train, target_train, 0.2)\n",
    "\n",
    "log_model = LogisticRegression(random_state=333, solver='lbfgs', max_iter=1000)\n",
    "log_model.fit(features_downsampled, target_downsampled)\n",
    "predict_train = log_model.predict(features_train)\n",
    "predict_valid = log_model.predict(features_valid)\n",
    "\n",
    "print('f1 метрика на тренировочной выборке:', f1_score(target_train, predict_train))\n",
    "print('f1 метрика на валидационной выборке:', f1_score(target_valid, predict_valid))"
   ]
  },
  {
   "cell_type": "markdown",
   "metadata": {},
   "source": [
    "Получили хорошие результаты.<br>\n",
    "Теперь попробуем взвешивание классов (аналог или наверное тоже самое, что и увеличение выборки - upsampling)."
   ]
  },
  {
   "cell_type": "code",
   "execution_count": 48,
   "metadata": {
    "scrolled": true
   },
   "outputs": [],
   "source": [
    "log_model = LogisticRegression(random_state=333, solver='lbfgs', max_iter=1000, class_weight='balanced')\n",
    "log_model.fit(features_train, target_train)\n",
    "predict_train = log_model.predict(features_train)\n",
    "predict_valid = log_model.predict(features_valid)"
   ]
  },
  {
   "cell_type": "code",
   "execution_count": 49,
   "metadata": {
    "scrolled": true
   },
   "outputs": [
    {
     "name": "stdout",
     "output_type": "stream",
     "text": [
      "f1 метрика на тренировочной выборке: 0.4907621247113164\n",
      "f1 метрика на валидационной выборке: 0.48378615249780893\n"
     ]
    }
   ],
   "source": [
    "print('f1 метрика на тренировочной выборке:', f1_score(target_train, predict_train))\n",
    "print('f1 метрика на валидационной выборке:', f1_score(target_valid, predict_valid))"
   ]
  },
  {
   "cell_type": "markdown",
   "metadata": {},
   "source": [
    "С балансом весов классов получили результаты выше. Посмотрим на ROC-кривую и roc-auc метрику."
   ]
  },
  {
   "cell_type": "code",
   "execution_count": 50,
   "metadata": {},
   "outputs": [],
   "source": [
    "predict_proba_one = log_model.predict_proba(features_valid)[:, 1]"
   ]
  },
  {
   "cell_type": "code",
   "execution_count": 51,
   "metadata": {
    "scrolled": false
   },
   "outputs": [
    {
     "data": {
      "image/png": "[encoded data removed]",
      "text/plain": [
       "<Figure size 576x432 with 1 Axes>"
      ]
     },
     "metadata": {
      "needs_background": "light"
     },
     "output_type": "display_data"
    }
   ],
   "source": [
    "fpr, tpr, thresholds = roc_curve(target_valid, predict_proba_one)\n",
    "\n",
    "draw_roc(fpr, tpr)"
   ]
  },
  {
   "cell_type": "code",
   "execution_count": 52,
   "metadata": {
    "scrolled": false
   },
   "outputs": [
    {
     "name": "stdout",
     "output_type": "stream",
     "text": [
      "0.6947051433638782\n"
     ]
    }
   ],
   "source": [
    "print(roc_auc_score(target_valid, predict_valid))"
   ]
  },
  {
   "cell_type": "markdown",
   "metadata": {},
   "source": [
    "Аналогично получили результаты лучше предыдущих."
   ]
  },
  {
   "cell_type": "markdown",
   "metadata": {},
   "source": [
    "### Модель \"Дерево решений\""
   ]
  },
  {
   "cell_type": "markdown",
   "metadata": {},
   "source": [
    "Рассмотрим модель <b>\"Дерево решений\"</b> с балансом классов."
   ]
  },
  {
   "cell_type": "markdown",
   "metadata": {},
   "source": [
    "Протестируем downsampling."
   ]
  },
  {
   "cell_type": "code",
   "execution_count": 53,
   "metadata": {},
   "outputs": [
    {
     "name": "stdout",
     "output_type": "stream",
     "text": [
      "Лучшие параметры: {'max_depth': 5, 'max_features': 9, 'min_samples_split': 2}\n",
      "CPU times: user 11.9 s, sys: 19.8 ms, total: 11.9 s\n",
      "Wall time: 12 s\n"
     ]
    }
   ],
   "source": [
    "%%time\n",
    "param = {\n",
    "    'max_depth': range(1, 20),\n",
    "    'min_samples_split': range(2, 8),\n",
    "    'max_features': [3, 6, 9]\n",
    "}\n",
    "\n",
    "tree_model = DecisionTreeClassifier(random_state=333)\n",
    "clf = GridSearchCV(tree_model, param, scoring='f1', cv=5, n_jobs=-1)\n",
    "clf.fit(features_downsampled, target_downsampled)\n",
    "\n",
    "tree_model = clf.best_estimator_\n",
    "print('Лучшие параметры:', clf.best_params_)"
   ]
  },
  {
   "cell_type": "code",
   "execution_count": 54,
   "metadata": {
    "scrolled": true
   },
   "outputs": [
    {
     "name": "stdout",
     "output_type": "stream",
     "text": [
      "f1 метрика на тренировочной выборке: 0.5649891941957395\n",
      "f1 метрика на валидационной выборке: 0.5539906103286384\n"
     ]
    }
   ],
   "source": [
    "predict_train = tree_model.predict(features_train)\n",
    "predict_valid = tree_model.predict(features_valid)\n",
    "print('f1 метрика на тренировочной выборке:', f1_score(target_train, predict_train))\n",
    "print('f1 метрика на валидационной выборке:', f1_score(target_valid, predict_valid))"
   ]
  },
  {
   "cell_type": "markdown",
   "metadata": {},
   "source": [
    "Результаты ниже, чем на несбалансированной выборке."
   ]
  },
  {
   "cell_type": "code",
   "execution_count": 55,
   "metadata": {
    "scrolled": false
   },
   "outputs": [
    {
     "name": "stdout",
     "output_type": "stream",
     "text": [
      "Лучшие параметры: {'class_weight': 'balanced', 'max_depth': 7, 'max_features': 9, 'min_samples_split': 3}\n",
      "CPU times: user 21.8 s, sys: 47.9 ms, total: 21.8 s\n",
      "Wall time: 21.8 s\n"
     ]
    }
   ],
   "source": [
    "%%time\n",
    "param = {\n",
    "    'max_depth': range(1, 20),\n",
    "    'min_samples_split': range(2, 8),\n",
    "    'max_features': [3, 6, 9],\n",
    "    'class_weight': ['balanced']\n",
    "}\n",
    "\n",
    "tree_model = DecisionTreeClassifier(random_state=333)\n",
    "clf = GridSearchCV(tree_model, param, scoring='f1', cv=5, n_jobs=-1)\n",
    "clf.fit(features_train, target_train)\n",
    "\n",
    "tree_model = clf.best_estimator_\n",
    "print('Лучшие параметры:', clf.best_params_)"
   ]
  },
  {
   "cell_type": "code",
   "execution_count": 56,
   "metadata": {
    "scrolled": true
   },
   "outputs": [
    {
     "name": "stdout",
     "output_type": "stream",
     "text": [
      "f1 метрика на тренировочной выборке: 0.6196319018404908\n",
      "f1 метрика на валидационной выборке: 0.5617566331198536\n"
     ]
    }
   ],
   "source": [
    "predict_train = tree_model.predict(features_train)\n",
    "predict_valid = tree_model.predict(features_valid)\n",
    "print('f1 метрика на тренировочной выборке:', f1_score(target_train, predict_train))\n",
    "print('f1 метрика на валидационной выборке:', f1_score(target_valid, predict_valid))"
   ]
  },
  {
   "cell_type": "markdown",
   "metadata": {},
   "source": [
    "При взвешивании классов показатели выше."
   ]
  },
  {
   "cell_type": "markdown",
   "metadata": {},
   "source": [
    "Посмотрим на ROC-кривую и roc-auc метрику"
   ]
  },
  {
   "cell_type": "code",
   "execution_count": 57,
   "metadata": {},
   "outputs": [],
   "source": [
    "predict_proba_one = tree_model.predict_proba(features_valid)[:, 1]"
   ]
  },
  {
   "cell_type": "code",
   "execution_count": 58,
   "metadata": {},
   "outputs": [
    {
     "data": {
      "image/png": "[encoded data removed]",
      "text/plain": [
       "<Figure size 576x432 with 1 Axes>"
      ]
     },
     "metadata": {
      "needs_background": "light"
     },
     "output_type": "display_data"
    }
   ],
   "source": [
    "fpr, tpr, thresholds = roc_curve(target_valid, predict_proba_one)\n",
    "\n",
    "draw_roc(fpr, tpr)"
   ]
  },
  {
   "cell_type": "code",
   "execution_count": 59,
   "metadata": {},
   "outputs": [
    {
     "name": "stdout",
     "output_type": "stream",
     "text": [
      "0.7575068972312543\n"
     ]
    }
   ],
   "source": [
    "print(roc_auc_score(target_valid, predict_valid))"
   ]
  },
  {
   "cell_type": "markdown",
   "metadata": {},
   "source": [
    "На сбалансированных данных с уменьшением семплов дерево решений на валидационной выборке показало результат f1 score ниже - 0.554, против 0.578 на не сбалансированных данных. При взвешивании классов показатели несного выше.\n",
    "\n",
    "А вот roc_auc score вырос - 0.758 против 0.720 на не сбалансированной выборке."
   ]
  },
  {
   "cell_type": "markdown",
   "metadata": {},
   "source": [
    "### Модель \"Случайный лес\""
   ]
  },
  {
   "cell_type": "markdown",
   "metadata": {},
   "source": [
    "Теперь рассмотрим модель \"случайный лес\" с балансировкой классов."
   ]
  },
  {
   "cell_type": "markdown",
   "metadata": {},
   "source": [
    "Протестируем downsampling."
   ]
  },
  {
   "cell_type": "code",
   "execution_count": 60,
   "metadata": {
    "scrolled": true
   },
   "outputs": [
    {
     "name": "stdout",
     "output_type": "stream",
     "text": [
      "Лучшие параметры: {'max_depth': 12, 'max_features': 6, 'min_samples_split': 8, 'n_estimators': 120}\n",
      "CPU times: user 1.35 s, sys: 11.9 ms, total: 1.36 s\n",
      "Wall time: 1.37 s\n"
     ]
    }
   ],
   "source": [
    "%%time\n",
    "param = {\n",
    "    'n_estimators': [120],\n",
    "    'max_depth': [12],\n",
    "    'min_samples_split': [8],\n",
    "    'max_features': [6]\n",
    "}\n",
    "\n",
    "rf_model = RandomForestClassifier(random_state=333)\n",
    "clf = GridSearchCV(rf_model, param, scoring='f1', cv=3, n_jobs=-1)\n",
    "clf.fit(features_downsampled, target_downsampled)\n",
    "\n",
    "rf_model = clf.best_estimator_\n",
    "print('Лучшие параметры:', clf.best_params_)"
   ]
  },
  {
   "cell_type": "code",
   "execution_count": 61,
   "metadata": {
    "scrolled": true
   },
   "outputs": [
    {
     "name": "stdout",
     "output_type": "stream",
     "text": [
      "f1 метрика на тренировочной выборке: 0.6833673172152637\n",
      "f1 метрика на валидационной выборке: 0.5522648083623694\n"
     ]
    }
   ],
   "source": [
    "predict_train = rf_model.predict(features_train)\n",
    "predict_valid = rf_model.predict(features_valid)\n",
    "print('f1 метрика на тренировочной выборке:', f1_score(target_train, predict_train))\n",
    "print('f1 метрика на валидационной выборке:', f1_score(target_valid, predict_valid))"
   ]
  },
  {
   "cell_type": "markdown",
   "metadata": {},
   "source": [
    "Результаты ниже, чем на несбалансированной выборке."
   ]
  },
  {
   "cell_type": "code",
   "execution_count": 62,
   "metadata": {
    "scrolled": false
   },
   "outputs": [
    {
     "name": "stdout",
     "output_type": "stream",
     "text": [
      "Лучшие параметры: {'class_weight': 'balanced', 'max_depth': 12, 'max_features': 6, 'min_samples_split': 8, 'n_estimators': 120}\n",
      "CPU times: user 2.97 s, sys: 15.7 ms, total: 2.99 s\n",
      "Wall time: 3 s\n"
     ]
    }
   ],
   "source": [
    "%%time\n",
    "param = {\n",
    "    'n_estimators': [120],\n",
    "    'max_depth': [12],\n",
    "    'min_samples_split': [8],\n",
    "    'max_features': [6],\n",
    "    'class_weight': ['balanced']\n",
    "}\n",
    "\n",
    "rf_model = RandomForestClassifier(random_state=333)\n",
    "clf = GridSearchCV(rf_model, param, scoring='f1', cv=3, n_jobs=-1)\n",
    "clf.fit(features_train, target_train)\n",
    "\n",
    "rf_model = clf.best_estimator_\n",
    "print('Лучшие параметры:', clf.best_params_)"
   ]
  },
  {
   "cell_type": "code",
   "execution_count": 63,
   "metadata": {
    "scrolled": true
   },
   "outputs": [
    {
     "name": "stdout",
     "output_type": "stream",
     "text": [
      "f1 метрика на тренировочной выборке: 0.8739232576350822\n",
      "f1 метрика на валидационной выборке: 0.6127450980392157\n"
     ]
    }
   ],
   "source": [
    "predict_train = rf_model.predict(features_train)\n",
    "predict_valid = rf_model.predict(features_valid)\n",
    "print('f1 метрика на тренировочной выборке:', f1_score(target_train, predict_train))\n",
    "print('f1 метрика на валидационной выборке:', f1_score(target_valid, predict_valid))"
   ]
  },
  {
   "cell_type": "markdown",
   "metadata": {},
   "source": [
    "При взвешивании классов получили метрику выше, чем при downsampling и несбалансированной выборки. Посмотрим на ROC-кривую и roc-auc метрику."
   ]
  },
  {
   "cell_type": "code",
   "execution_count": 64,
   "metadata": {},
   "outputs": [],
   "source": [
    "predict_proba_one = rf_model.predict_proba(features_valid)[:, 1]"
   ]
  },
  {
   "cell_type": "code",
   "execution_count": 65,
   "metadata": {
    "scrolled": false
   },
   "outputs": [
    {
     "data": {
      "image/png": "[encoded data removed]",
      "text/plain": [
       "<Figure size 576x432 with 1 Axes>"
      ]
     },
     "metadata": {
      "needs_background": "light"
     },
     "output_type": "display_data"
    }
   ],
   "source": [
    "fpr, tpr, thresholds = roc_curve(target_valid, predict_proba_one)\n",
    "\n",
    "draw_roc(fpr, tpr)"
   ]
  },
  {
   "cell_type": "code",
   "execution_count": 66,
   "metadata": {
    "scrolled": true
   },
   "outputs": [
    {
     "name": "stdout",
     "output_type": "stream",
     "text": [
      "0.7567494334417184\n"
     ]
    }
   ],
   "source": [
    "print(roc_auc_score(target_valid, predict_valid))"
   ]
  },
  {
   "cell_type": "markdown",
   "metadata": {},
   "source": [
    "roc-auc метрика стала выше."
   ]
  },
  {
   "cell_type": "markdown",
   "metadata": {},
   "source": [
    "### Краткий вывод"
   ]
  },
  {
   "cell_type": "markdown",
   "metadata": {},
   "source": [
    "Взвешивание классов дает лучше результат, чем уменьшение выборки (downsampling).<br>\n",
    "На логистической регрессии с балансом классов получили результаты f1 score выше. Roc-auc тоже получили результаты лучше предыдущих.<br>\n",
    "На сбалансированных данных дерево решений на валидационной выборке показало результат f1 score ниже - 0.562, против 0.578 на не сбалансированных данных. А вот roc_auc score вырос - 0.758.<br>\n",
    "Случайный лес дал лучший результат - получили метрики еще выше, f-score - 0.612 и roc-auc - 0.756."
   ]
  },
  {
   "cell_type": "markdown",
   "metadata": {},
   "source": [
    "## Тестирование модели"
   ]
  },
  {
   "cell_type": "markdown",
   "metadata": {},
   "source": [
    "Выберем модель \"случайный лес\" и обучим на большой выборке - train + valid."
   ]
  },
  {
   "cell_type": "code",
   "execution_count": 67,
   "metadata": {},
   "outputs": [],
   "source": [
    "big_features = pd.concat([features_train, features_valid])\n",
    "big_target = pd.concat([target_train, target_valid])"
   ]
  },
  {
   "cell_type": "markdown",
   "metadata": {},
   "source": [
    "Проверим модель на тестовой выборке обученную только на тренировочных данных и на тренировочные + валидационные:"
   ]
  },
  {
   "cell_type": "code",
   "execution_count": 68,
   "metadata": {},
   "outputs": [
    {
     "name": "stdout",
     "output_type": "stream",
     "text": [
      "f1 метрика на тестовых данных, обучение только на выборке train: 0.6150000000000001\n"
     ]
    }
   ],
   "source": [
    "rf_model.fit(features_train, target_train)\n",
    "predict_test = rf_model.predict(features_test)\n",
    "print('f1 метрика на тестовых данных, обучение только на выборке train:', f1_score(target_test, predict_test))"
   ]
  },
  {
   "cell_type": "code",
   "execution_count": 69,
   "metadata": {},
   "outputs": [
    {
     "name": "stdout",
     "output_type": "stream",
     "text": [
      "f1 метрика на тестовых данных, обучение на выборке train + valid: 0.6402966625463535\n"
     ]
    }
   ],
   "source": [
    "rf_model.fit(big_features, big_target)\n",
    "predict_test = rf_model.predict(features_test)\n",
    "print('f1 метрика на тестовых данных, обучение на выборке train + valid:', f1_score(target_test, predict_test))"
   ]
  },
  {
   "cell_type": "markdown",
   "metadata": {},
   "source": [
    "Получили высокую f-score метрику с обучением на объединенных данных. Посмотрим на roc-кривую и roc-auc скоринг."
   ]
  },
  {
   "cell_type": "code",
   "execution_count": 70,
   "metadata": {},
   "outputs": [],
   "source": [
    "predict_proba_one = rf_model.predict_proba(features_test)[:, 1]"
   ]
  },
  {
   "cell_type": "code",
   "execution_count": 71,
   "metadata": {
    "scrolled": false
   },
   "outputs": [
    {
     "data": {
      "image/png": "[encoded data removed]",
      "text/plain": [
       "<Figure size 576x432 with 1 Axes>"
      ]
     },
     "metadata": {
      "needs_background": "light"
     },
     "output_type": "display_data"
    }
   ],
   "source": [
    "fpr, tpr, thresholds = roc_curve(target_test, predict_proba_one)\n",
    "\n",
    "draw_roc(fpr, tpr)"
   ]
  },
  {
   "cell_type": "code",
   "execution_count": 72,
   "metadata": {
    "scrolled": true
   },
   "outputs": [
    {
     "name": "stdout",
     "output_type": "stream",
     "text": [
      "0.7732979512640529\n"
     ]
    }
   ],
   "source": [
    "print(roc_auc_score(target_test, predict_test))"
   ]
  },
  {
   "cell_type": "markdown",
   "metadata": {},
   "source": [
    "Хорошие показатели, кривая гладкая без провалов."
   ]
  },
  {
   "cell_type": "markdown",
   "metadata": {},
   "source": [
    "## Вывод"
   ]
  },
  {
   "cell_type": "markdown",
   "metadata": {},
   "source": [
    "Загрузили и изучили данные. Найдены пропуски в данных, загрузили оригинальные данные без пропусков. Удалили не нужные колонки данных. Колонки с категориальными данными перевели перевели в численные. Сделали стандартизацию данных (масштабирование численных признаков). Разделили данные на выборки.\n",
    "\n",
    "Имеем дисбаланс таргет класса 80/20.\n",
    "На не сбалансированных данных логистическая регрессия показала очень плохой результат метрики f1 score - 0.312 и roc_auc score: 0.587.\n",
    "Дерево решений показало результат намного больше - f1 score - 0.578 и roc_auc score: 0.720.\n",
    "Случайный лес дал самый лучший результат - f1 score - 0.587 и roc_auc score: 0.720.\n",
    "\n",
    "Взвешивание классов дает лучше результат, чем уменьшение выборки (downsampling).\n",
    "На логистической регрессии с балансом классов получили результаты f1 score выше. Roc-auc тоже получили результаты лучше предыдущих.\n",
    "На сбалансированных данных дерево решений на валидационной выборке показало результат f1 score ниже - 0.562, против 0.578 на не сбалансированных данных. А вот roc_auc score вырос - 0.758.\n",
    "Случайный лес дал лучший результат - получили метрики еще выше, f-score - 0.612 и roc-auc - 0.756.\n",
    "\n",
    "Для финального теста выбрали модель \"случайный лес\". Обучили модель на общей большой выборке данных: тренировочные + валидационные. На тестовой выборке получили хорошие результаты метрик: f-score - 0.640 и roc-auc - 0.773."
   ]
  }
 ],
 "metadata": {
  "ExecuteTimeLog": [
   {
    "duration": 405,
    "start_time": "2022-09-21T14:28:34.865Z"
   },
   {
    "duration": 90,
    "start_time": "2022-09-21T14:29:51.056Z"
   },
   {
    "duration": 16,
    "start_time": "2022-09-21T14:30:06.564Z"
   },
   {
    "duration": 67,
    "start_time": "2022-09-21T14:33:19.778Z"
   },
   {
    "duration": 10,
    "start_time": "2022-09-21T14:34:07.855Z"
   },
   {
    "duration": 51,
    "start_time": "2022-09-21T14:34:12.772Z"
   },
   {
    "duration": 12,
    "start_time": "2022-09-21T14:34:17.151Z"
   },
   {
    "duration": 4,
    "start_time": "2022-09-21T14:36:43.264Z"
   },
   {
    "duration": 11,
    "start_time": "2022-09-21T14:36:51.285Z"
   },
   {
    "duration": 54,
    "start_time": "2022-09-21T14:38:49.414Z"
   },
   {
    "duration": 58,
    "start_time": "2022-09-21T14:38:53.780Z"
   },
   {
    "duration": 77,
    "start_time": "2022-09-21T14:41:03.398Z"
   },
   {
    "duration": 97,
    "start_time": "2022-09-21T14:41:30.156Z"
   },
   {
    "duration": 17,
    "start_time": "2022-09-21T14:47:34.015Z"
   },
   {
    "duration": 13,
    "start_time": "2022-09-21T14:47:37.462Z"
   },
   {
    "duration": 56,
    "start_time": "2022-09-21T14:53:18.679Z"
   },
   {
    "duration": 5,
    "start_time": "2022-09-21T14:54:56.028Z"
   },
   {
    "duration": 5,
    "start_time": "2022-09-21T14:55:07.167Z"
   },
   {
    "duration": 6,
    "start_time": "2022-09-21T14:55:13.919Z"
   },
   {
    "duration": 17,
    "start_time": "2022-09-21T14:59:57.550Z"
   },
   {
    "duration": 7,
    "start_time": "2022-09-21T15:00:02.970Z"
   },
   {
    "duration": 5,
    "start_time": "2022-09-21T15:00:43.171Z"
   },
   {
    "duration": 5,
    "start_time": "2022-09-21T15:02:04.254Z"
   },
   {
    "duration": 6,
    "start_time": "2022-09-21T15:02:09.309Z"
   },
   {
    "duration": 49,
    "start_time": "2022-09-21T15:23:02.575Z"
   },
   {
    "duration": 6,
    "start_time": "2022-09-21T15:34:40.346Z"
   },
   {
    "duration": 6,
    "start_time": "2022-09-21T15:35:08.237Z"
   },
   {
    "duration": 10,
    "start_time": "2022-09-21T15:35:27.741Z"
   },
   {
    "duration": 47,
    "start_time": "2022-09-21T15:42:36.799Z"
   },
   {
    "duration": 11,
    "start_time": "2022-09-21T15:43:03.059Z"
   },
   {
    "duration": 11,
    "start_time": "2022-09-21T15:43:18.447Z"
   },
   {
    "duration": 5,
    "start_time": "2022-09-21T15:47:26.073Z"
   },
   {
    "duration": 10,
    "start_time": "2022-09-21T15:47:37.531Z"
   },
   {
    "duration": 6,
    "start_time": "2022-09-21T15:55:22.337Z"
   },
   {
    "duration": 5,
    "start_time": "2022-09-21T15:55:45.604Z"
   },
   {
    "duration": 371,
    "start_time": "2022-09-21T15:56:07.972Z"
   },
   {
    "duration": 2,
    "start_time": "2022-09-21T15:56:09.961Z"
   },
   {
    "duration": 7,
    "start_time": "2022-09-21T15:56:14.476Z"
   },
   {
    "duration": 128,
    "start_time": "2022-09-21T15:56:16.636Z"
   },
   {
    "duration": 123,
    "start_time": "2022-09-21T15:56:31.760Z"
   },
   {
    "duration": 7,
    "start_time": "2022-09-21T15:56:43.912Z"
   },
   {
    "duration": 19,
    "start_time": "2022-09-21T15:57:51.067Z"
   },
   {
    "duration": 9,
    "start_time": "2022-09-21T15:58:13.085Z"
   },
   {
    "duration": 8,
    "start_time": "2022-09-21T15:58:15.090Z"
   },
   {
    "duration": 9,
    "start_time": "2022-09-21T15:58:21.019Z"
   },
   {
    "duration": 5,
    "start_time": "2022-09-21T15:58:23.146Z"
   },
   {
    "duration": 10,
    "start_time": "2022-09-21T16:12:42.124Z"
   },
   {
    "duration": 10,
    "start_time": "2022-09-21T16:12:47.830Z"
   },
   {
    "duration": 799,
    "start_time": "2022-09-21T16:18:32.646Z"
   },
   {
    "duration": 2,
    "start_time": "2022-09-21T16:18:50.176Z"
   },
   {
    "duration": 52,
    "start_time": "2022-09-21T16:18:50.180Z"
   },
   {
    "duration": 11,
    "start_time": "2022-09-21T16:18:50.234Z"
   },
   {
    "duration": 8,
    "start_time": "2022-09-21T16:18:50.247Z"
   },
   {
    "duration": 12,
    "start_time": "2022-09-21T16:18:50.257Z"
   },
   {
    "duration": 7,
    "start_time": "2022-09-21T16:18:50.271Z"
   },
   {
    "duration": 59,
    "start_time": "2022-09-21T16:18:50.280Z"
   },
   {
    "duration": 11,
    "start_time": "2022-09-21T16:18:50.341Z"
   },
   {
    "duration": 4,
    "start_time": "2022-09-21T16:18:50.354Z"
   },
   {
    "duration": 12,
    "start_time": "2022-09-21T16:18:50.360Z"
   },
   {
    "duration": 5,
    "start_time": "2022-09-21T16:18:50.374Z"
   },
   {
    "duration": 16,
    "start_time": "2022-09-21T16:18:50.381Z"
   },
   {
    "duration": 11,
    "start_time": "2022-09-21T16:18:50.400Z"
   },
   {
    "duration": 6,
    "start_time": "2022-09-21T16:18:54.288Z"
   },
   {
    "duration": 5,
    "start_time": "2022-09-21T16:18:56.162Z"
   },
   {
    "duration": 4,
    "start_time": "2022-09-21T16:19:15.242Z"
   },
   {
    "duration": 4,
    "start_time": "2022-09-21T16:19:22.957Z"
   },
   {
    "duration": 5,
    "start_time": "2022-09-21T16:19:32.083Z"
   },
   {
    "duration": 10,
    "start_time": "2022-09-21T16:25:40.171Z"
   },
   {
    "duration": 6,
    "start_time": "2022-09-21T16:28:18.348Z"
   },
   {
    "duration": 4,
    "start_time": "2022-09-21T16:33:37.385Z"
   },
   {
    "duration": 7,
    "start_time": "2022-09-21T16:34:58.351Z"
   },
   {
    "duration": 777,
    "start_time": "2022-09-21T16:36:17.973Z"
   },
   {
    "duration": 10,
    "start_time": "2022-09-21T16:36:31.207Z"
   },
   {
    "duration": 6,
    "start_time": "2022-09-21T16:37:33.856Z"
   },
   {
    "duration": 8,
    "start_time": "2022-09-21T16:38:38.686Z"
   },
   {
    "duration": 5,
    "start_time": "2022-09-21T16:43:19.380Z"
   },
   {
    "duration": 3,
    "start_time": "2022-09-21T16:43:27.499Z"
   },
   {
    "duration": 3,
    "start_time": "2022-09-21T16:43:29.588Z"
   },
   {
    "duration": 5,
    "start_time": "2022-09-21T16:43:32.354Z"
   },
   {
    "duration": 4,
    "start_time": "2022-09-21T16:43:46.746Z"
   },
   {
    "duration": 4,
    "start_time": "2022-09-21T16:43:48.859Z"
   },
   {
    "duration": 5,
    "start_time": "2022-09-21T16:43:51.937Z"
   },
   {
    "duration": 2,
    "start_time": "2022-09-21T18:34:24.155Z"
   },
   {
    "duration": 2,
    "start_time": "2022-09-21T18:35:11.654Z"
   },
   {
    "duration": 3,
    "start_time": "2022-09-21T18:37:07.561Z"
   },
   {
    "duration": 51,
    "start_time": "2022-09-21T18:37:51.945Z"
   },
   {
    "duration": 3,
    "start_time": "2022-09-21T18:38:24.369Z"
   },
   {
    "duration": 136,
    "start_time": "2022-09-21T18:38:24.373Z"
   },
   {
    "duration": 27,
    "start_time": "2022-09-21T18:38:24.524Z"
   },
   {
    "duration": 22,
    "start_time": "2022-09-21T18:38:24.556Z"
   },
   {
    "duration": 12,
    "start_time": "2022-09-21T18:38:24.580Z"
   },
   {
    "duration": 7,
    "start_time": "2022-09-21T18:38:24.594Z"
   },
   {
    "duration": 161,
    "start_time": "2022-09-21T18:38:24.605Z"
   },
   {
    "duration": 13,
    "start_time": "2022-09-21T18:38:24.768Z"
   },
   {
    "duration": 11,
    "start_time": "2022-09-21T18:38:24.783Z"
   },
   {
    "duration": 60,
    "start_time": "2022-09-21T18:38:24.796Z"
   },
   {
    "duration": 16,
    "start_time": "2022-09-21T18:38:24.860Z"
   },
   {
    "duration": 13,
    "start_time": "2022-09-21T18:38:24.878Z"
   },
   {
    "duration": 57,
    "start_time": "2022-09-21T18:38:24.893Z"
   },
   {
    "duration": 10,
    "start_time": "2022-09-21T18:38:24.953Z"
   },
   {
    "duration": 6,
    "start_time": "2022-09-21T18:38:24.965Z"
   },
   {
    "duration": 10,
    "start_time": "2022-09-21T18:38:24.972Z"
   },
   {
    "duration": 9,
    "start_time": "2022-09-21T18:38:24.983Z"
   },
   {
    "duration": 13,
    "start_time": "2022-09-21T18:38:24.994Z"
   },
   {
    "duration": 52,
    "start_time": "2022-09-21T18:38:25.012Z"
   },
   {
    "duration": 7,
    "start_time": "2022-09-21T18:38:25.065Z"
   },
   {
    "duration": 8,
    "start_time": "2022-09-21T18:38:25.073Z"
   },
   {
    "duration": 5,
    "start_time": "2022-09-21T18:38:25.083Z"
   },
   {
    "duration": 1298,
    "start_time": "2022-09-21T18:38:33.530Z"
   },
   {
    "duration": 7,
    "start_time": "2022-09-21T18:40:02.298Z"
   },
   {
    "duration": 508,
    "start_time": "2022-09-21T18:41:36.519Z"
   },
   {
    "duration": 11,
    "start_time": "2022-09-21T18:41:59.095Z"
   },
   {
    "duration": 131,
    "start_time": "2022-09-21T18:46:06.496Z"
   },
   {
    "duration": 39,
    "start_time": "2022-09-21T18:46:33.571Z"
   },
   {
    "duration": 2174,
    "start_time": "2022-09-21T18:46:37.551Z"
   },
   {
    "duration": 135,
    "start_time": "2022-09-21T18:50:31.798Z"
   },
   {
    "duration": 4,
    "start_time": "2022-09-21T18:50:50.304Z"
   },
   {
    "duration": 98,
    "start_time": "2022-09-21T18:50:50.314Z"
   },
   {
    "duration": 27,
    "start_time": "2022-09-21T18:50:50.414Z"
   },
   {
    "duration": 17,
    "start_time": "2022-09-21T18:50:50.445Z"
   },
   {
    "duration": 10,
    "start_time": "2022-09-21T18:50:50.464Z"
   },
   {
    "duration": 5,
    "start_time": "2022-09-21T18:50:50.475Z"
   },
   {
    "duration": 88,
    "start_time": "2022-09-21T18:50:50.481Z"
   },
   {
    "duration": 12,
    "start_time": "2022-09-21T18:50:50.571Z"
   },
   {
    "duration": 13,
    "start_time": "2022-09-21T18:50:50.584Z"
   },
   {
    "duration": 7,
    "start_time": "2022-09-21T18:50:50.600Z"
   },
   {
    "duration": 40,
    "start_time": "2022-09-21T18:50:50.609Z"
   },
   {
    "duration": 29,
    "start_time": "2022-09-21T18:50:50.651Z"
   },
   {
    "duration": 25,
    "start_time": "2022-09-21T18:50:50.681Z"
   },
   {
    "duration": 56,
    "start_time": "2022-09-21T18:50:50.708Z"
   },
   {
    "duration": 13,
    "start_time": "2022-09-21T18:50:50.766Z"
   },
   {
    "duration": 12,
    "start_time": "2022-09-21T18:50:50.781Z"
   },
   {
    "duration": 41,
    "start_time": "2022-09-21T18:50:50.795Z"
   },
   {
    "duration": 34,
    "start_time": "2022-09-21T18:50:50.837Z"
   },
   {
    "duration": 8,
    "start_time": "2022-09-21T18:50:50.874Z"
   },
   {
    "duration": 8,
    "start_time": "2022-09-21T18:50:50.884Z"
   },
   {
    "duration": 15,
    "start_time": "2022-09-21T18:50:50.894Z"
   },
   {
    "duration": 73,
    "start_time": "2022-09-21T18:50:50.910Z"
   },
   {
    "duration": 855,
    "start_time": "2022-09-21T18:50:50.985Z"
   },
   {
    "duration": 78,
    "start_time": "2022-09-21T18:50:51.847Z"
   },
   {
    "duration": 350,
    "start_time": "2022-09-21T18:50:53.663Z"
   },
   {
    "duration": 103,
    "start_time": "2022-09-21T18:52:03.475Z"
   },
   {
    "duration": 186,
    "start_time": "2022-09-21T18:54:54.770Z"
   },
   {
    "duration": 54,
    "start_time": "2022-09-21T18:54:59.705Z"
   },
   {
    "duration": 4,
    "start_time": "2022-09-21T18:55:44.082Z"
   },
   {
    "duration": 143,
    "start_time": "2022-09-21T18:55:44.088Z"
   },
   {
    "duration": 16,
    "start_time": "2022-09-21T18:55:44.233Z"
   },
   {
    "duration": 43,
    "start_time": "2022-09-21T18:55:44.251Z"
   },
   {
    "duration": 31,
    "start_time": "2022-09-21T18:55:44.384Z"
   },
   {
    "duration": 35,
    "start_time": "2022-09-21T18:55:44.430Z"
   },
   {
    "duration": 132,
    "start_time": "2022-09-21T18:55:44.467Z"
   },
   {
    "duration": 29,
    "start_time": "2022-09-21T18:55:44.609Z"
   },
   {
    "duration": 39,
    "start_time": "2022-09-21T18:55:44.642Z"
   },
   {
    "duration": 6,
    "start_time": "2022-09-21T18:55:44.683Z"
   },
   {
    "duration": 84,
    "start_time": "2022-09-21T18:55:44.690Z"
   },
   {
    "duration": 12,
    "start_time": "2022-09-21T18:55:44.776Z"
   },
   {
    "duration": 54,
    "start_time": "2022-09-21T18:55:44.789Z"
   },
   {
    "duration": 35,
    "start_time": "2022-09-21T18:55:44.853Z"
   },
   {
    "duration": 12,
    "start_time": "2022-09-21T18:55:44.889Z"
   },
   {
    "duration": 69,
    "start_time": "2022-09-21T18:55:44.904Z"
   },
   {
    "duration": 10,
    "start_time": "2022-09-21T18:55:44.975Z"
   },
   {
    "duration": 9,
    "start_time": "2022-09-21T18:55:44.987Z"
   },
   {
    "duration": 61,
    "start_time": "2022-09-21T18:55:44.998Z"
   },
   {
    "duration": 13,
    "start_time": "2022-09-21T18:55:45.060Z"
   },
   {
    "duration": 13,
    "start_time": "2022-09-21T18:55:45.075Z"
   },
   {
    "duration": 16,
    "start_time": "2022-09-21T18:55:45.090Z"
   },
   {
    "duration": 1597,
    "start_time": "2022-09-21T18:55:45.108Z"
   },
   {
    "duration": 21,
    "start_time": "2022-09-21T18:55:46.706Z"
   },
   {
    "duration": 495,
    "start_time": "2022-09-21T18:55:46.734Z"
   },
   {
    "duration": 1585,
    "start_time": "2022-09-22T12:02:25.900Z"
   },
   {
    "duration": 176,
    "start_time": "2022-09-22T12:02:27.487Z"
   },
   {
    "duration": 16,
    "start_time": "2022-09-22T12:02:27.664Z"
   },
   {
    "duration": 17,
    "start_time": "2022-09-22T12:02:27.682Z"
   },
   {
    "duration": 11,
    "start_time": "2022-09-22T12:02:27.700Z"
   },
   {
    "duration": 6,
    "start_time": "2022-09-22T12:02:27.712Z"
   },
   {
    "duration": 107,
    "start_time": "2022-09-22T12:02:27.719Z"
   },
   {
    "duration": 13,
    "start_time": "2022-09-22T12:02:27.828Z"
   },
   {
    "duration": 13,
    "start_time": "2022-09-22T12:02:27.842Z"
   },
   {
    "duration": 7,
    "start_time": "2022-09-22T12:02:27.858Z"
   },
   {
    "duration": 22,
    "start_time": "2022-09-22T12:02:27.867Z"
   },
   {
    "duration": 8,
    "start_time": "2022-09-22T12:02:27.891Z"
   },
   {
    "duration": 31,
    "start_time": "2022-09-22T12:02:27.901Z"
   },
   {
    "duration": 13,
    "start_time": "2022-09-22T12:02:27.933Z"
   },
   {
    "duration": 7,
    "start_time": "2022-09-22T12:02:27.948Z"
   },
   {
    "duration": 13,
    "start_time": "2022-09-22T12:02:27.956Z"
   },
   {
    "duration": 10,
    "start_time": "2022-09-22T12:02:27.971Z"
   },
   {
    "duration": 7,
    "start_time": "2022-09-22T12:02:27.983Z"
   },
   {
    "duration": 33,
    "start_time": "2022-09-22T12:02:27.992Z"
   },
   {
    "duration": 7,
    "start_time": "2022-09-22T12:02:28.026Z"
   },
   {
    "duration": 9,
    "start_time": "2022-09-22T12:02:28.034Z"
   },
   {
    "duration": 8,
    "start_time": "2022-09-22T12:02:28.045Z"
   },
   {
    "duration": 485,
    "start_time": "2022-09-22T12:02:28.054Z"
   },
   {
    "duration": 6,
    "start_time": "2022-09-22T12:02:28.623Z"
   },
   {
    "duration": 415,
    "start_time": "2022-09-22T12:02:28.630Z"
   },
   {
    "duration": 2,
    "start_time": "2022-09-22T12:26:32.332Z"
   },
   {
    "duration": 10385,
    "start_time": "2022-09-22T12:27:02.679Z"
   },
   {
    "duration": 4,
    "start_time": "2022-09-22T12:29:07.396Z"
   },
   {
    "duration": 4,
    "start_time": "2022-09-22T12:29:22.825Z"
   },
   {
    "duration": 10149,
    "start_time": "2022-09-22T12:30:05.104Z"
   },
   {
    "duration": 5,
    "start_time": "2022-09-22T12:30:46.159Z"
   },
   {
    "duration": 4,
    "start_time": "2022-09-22T12:30:56.357Z"
   },
   {
    "duration": 161,
    "start_time": "2022-09-22T12:31:04.072Z"
   },
   {
    "duration": 19112,
    "start_time": "2022-09-22T12:31:24.456Z"
   },
   {
    "duration": 4,
    "start_time": "2022-09-22T12:31:48.947Z"
   },
   {
    "duration": 3,
    "start_time": "2022-09-22T12:31:53.188Z"
   },
   {
    "duration": 9,
    "start_time": "2022-09-22T12:35:37.790Z"
   },
   {
    "duration": 2,
    "start_time": "2022-09-22T12:35:44.173Z"
   },
   {
    "duration": 4,
    "start_time": "2022-09-22T12:35:46.395Z"
   },
   {
    "duration": 4,
    "start_time": "2022-09-22T12:35:48.489Z"
   },
   {
    "duration": 5,
    "start_time": "2022-09-22T12:36:31.744Z"
   },
   {
    "duration": 5,
    "start_time": "2022-09-22T12:37:07.766Z"
   },
   {
    "duration": 11353,
    "start_time": "2022-09-22T12:37:42.183Z"
   },
   {
    "duration": 3,
    "start_time": "2022-09-22T12:37:58.477Z"
   },
   {
    "duration": 4,
    "start_time": "2022-09-22T12:38:00.588Z"
   },
   {
    "duration": 5,
    "start_time": "2022-09-22T12:38:02.957Z"
   },
   {
    "duration": 4,
    "start_time": "2022-09-22T12:38:05.353Z"
   },
   {
    "duration": 5,
    "start_time": "2022-09-22T12:38:07.281Z"
   },
   {
    "duration": 5,
    "start_time": "2022-09-22T12:38:45.794Z"
   },
   {
    "duration": 5,
    "start_time": "2022-09-22T12:38:47.575Z"
   },
   {
    "duration": 10818,
    "start_time": "2022-09-22T12:39:14.173Z"
   },
   {
    "duration": 2,
    "start_time": "2022-09-22T12:39:34.239Z"
   },
   {
    "duration": 4,
    "start_time": "2022-09-22T12:39:36.208Z"
   },
   {
    "duration": 3,
    "start_time": "2022-09-22T12:39:38.214Z"
   },
   {
    "duration": 6,
    "start_time": "2022-09-22T12:39:39.907Z"
   },
   {
    "duration": 5,
    "start_time": "2022-09-22T12:39:41.774Z"
   },
   {
    "duration": 1734,
    "start_time": "2022-09-22T12:39:48.006Z"
   },
   {
    "duration": 2,
    "start_time": "2022-09-22T12:39:52.982Z"
   },
   {
    "duration": 3,
    "start_time": "2022-09-22T12:39:54.241Z"
   },
   {
    "duration": 3,
    "start_time": "2022-09-22T12:39:56.644Z"
   },
   {
    "duration": 4,
    "start_time": "2022-09-22T12:39:58.568Z"
   },
   {
    "duration": 4,
    "start_time": "2022-09-22T12:39:59.966Z"
   },
   {
    "duration": 1685,
    "start_time": "2022-09-22T12:40:43.291Z"
   },
   {
    "duration": 2,
    "start_time": "2022-09-22T12:40:50.605Z"
   },
   {
    "duration": 4,
    "start_time": "2022-09-22T12:40:53.590Z"
   },
   {
    "duration": 3,
    "start_time": "2022-09-22T12:40:55.501Z"
   },
   {
    "duration": 4,
    "start_time": "2022-09-22T12:40:57.511Z"
   },
   {
    "duration": 5,
    "start_time": "2022-09-22T12:40:59.201Z"
   },
   {
    "duration": 18692,
    "start_time": "2022-09-22T12:43:00.311Z"
   },
   {
    "duration": 17295,
    "start_time": "2022-09-22T12:43:25.778Z"
   },
   {
    "duration": 3,
    "start_time": "2022-09-22T12:45:02.698Z"
   },
   {
    "duration": 4,
    "start_time": "2022-09-22T12:45:22.542Z"
   },
   {
    "duration": 5,
    "start_time": "2022-09-22T12:45:24.520Z"
   },
   {
    "duration": 7,
    "start_time": "2022-09-22T12:46:00.867Z"
   },
   {
    "duration": 8,
    "start_time": "2022-09-22T12:46:33.388Z"
   },
   {
    "duration": 3,
    "start_time": "2022-09-22T12:47:28.748Z"
   },
   {
    "duration": 4,
    "start_time": "2022-09-22T12:47:41.979Z"
   },
   {
    "duration": 3,
    "start_time": "2022-09-22T12:47:55.567Z"
   },
   {
    "duration": 4,
    "start_time": "2022-09-22T12:55:14.116Z"
   },
   {
    "duration": 122,
    "start_time": "2022-09-22T12:55:27.268Z"
   },
   {
    "duration": 14,
    "start_time": "2022-09-22T12:55:42.032Z"
   },
   {
    "duration": 106,
    "start_time": "2022-09-22T12:56:10.065Z"
   },
   {
    "duration": 3,
    "start_time": "2022-09-22T12:57:20.065Z"
   },
   {
    "duration": 6,
    "start_time": "2022-09-22T12:57:59.752Z"
   },
   {
    "duration": 129,
    "start_time": "2022-09-22T12:59:22.893Z"
   },
   {
    "duration": 6,
    "start_time": "2022-09-22T12:59:35.111Z"
   },
   {
    "duration": 7,
    "start_time": "2022-09-22T13:03:43.012Z"
   },
   {
    "duration": 115,
    "start_time": "2022-09-22T13:03:45.877Z"
   },
   {
    "duration": 4,
    "start_time": "2022-09-22T13:04:21.507Z"
   },
   {
    "duration": 247,
    "start_time": "2022-09-22T13:04:43.779Z"
   },
   {
    "duration": 5,
    "start_time": "2022-09-22T13:04:45.649Z"
   },
   {
    "duration": 5,
    "start_time": "2022-09-22T13:04:48.729Z"
   },
   {
    "duration": 108,
    "start_time": "2022-09-22T13:04:50.877Z"
   },
   {
    "duration": 5,
    "start_time": "2022-09-22T13:04:53.986Z"
   },
   {
    "duration": 117,
    "start_time": "2022-09-22T13:05:03.894Z"
   },
   {
    "duration": 110,
    "start_time": "2022-09-22T13:06:16.732Z"
   },
   {
    "duration": 118,
    "start_time": "2022-09-22T13:06:30.985Z"
   },
   {
    "duration": 119,
    "start_time": "2022-09-22T13:06:38.523Z"
   },
   {
    "duration": 114,
    "start_time": "2022-09-22T13:06:59.408Z"
   },
   {
    "duration": 14,
    "start_time": "2022-09-22T13:07:07.717Z"
   },
   {
    "duration": 122,
    "start_time": "2022-09-22T13:07:18.180Z"
   },
   {
    "duration": 119,
    "start_time": "2022-09-22T13:07:24.296Z"
   },
   {
    "duration": 127,
    "start_time": "2022-09-22T13:09:04.042Z"
   },
   {
    "duration": 120,
    "start_time": "2022-09-22T13:09:08.486Z"
   },
   {
    "duration": 131,
    "start_time": "2022-09-22T13:09:27.572Z"
   },
   {
    "duration": 222,
    "start_time": "2022-09-22T13:09:46.502Z"
   },
   {
    "duration": 108,
    "start_time": "2022-09-22T13:09:57.425Z"
   },
   {
    "duration": 110,
    "start_time": "2022-09-22T13:10:05.143Z"
   },
   {
    "duration": 120,
    "start_time": "2022-09-22T13:10:14.340Z"
   },
   {
    "duration": 116,
    "start_time": "2022-09-22T13:10:21.093Z"
   },
   {
    "duration": 11,
    "start_time": "2022-09-22T13:11:03.873Z"
   },
   {
    "duration": 137,
    "start_time": "2022-09-22T13:11:12.509Z"
   },
   {
    "duration": 5,
    "start_time": "2022-09-22T13:12:26.497Z"
   },
   {
    "duration": 4,
    "start_time": "2022-09-22T13:12:27.851Z"
   },
   {
    "duration": 108,
    "start_time": "2022-09-22T13:12:44.981Z"
   },
   {
    "duration": 4,
    "start_time": "2022-09-22T13:13:37.249Z"
   },
   {
    "duration": 4,
    "start_time": "2022-09-22T13:16:40.539Z"
   },
   {
    "duration": 5,
    "start_time": "2022-09-22T13:16:42.370Z"
   },
   {
    "duration": 109,
    "start_time": "2022-09-22T13:16:46.451Z"
   },
   {
    "duration": 17346,
    "start_time": "2022-09-22T16:09:27.249Z"
   },
   {
    "duration": 3,
    "start_time": "2022-09-22T16:09:54.022Z"
   },
   {
    "duration": 6,
    "start_time": "2022-09-22T16:10:13.797Z"
   },
   {
    "duration": 119,
    "start_time": "2022-09-22T16:10:50.805Z"
   },
   {
    "duration": 115,
    "start_time": "2022-09-22T16:11:06.642Z"
   },
   {
    "duration": 5,
    "start_time": "2022-09-22T16:11:12.185Z"
   },
   {
    "duration": 121,
    "start_time": "2022-09-22T16:11:14.019Z"
   },
   {
    "duration": 18020,
    "start_time": "2022-09-22T16:12:47.857Z"
   },
   {
    "duration": 4,
    "start_time": "2022-09-22T16:13:12.980Z"
   },
   {
    "duration": 6,
    "start_time": "2022-09-22T16:13:21.400Z"
   },
   {
    "duration": 4,
    "start_time": "2022-09-22T16:17:22.693Z"
   },
   {
    "duration": 233,
    "start_time": "2022-09-22T16:22:05.094Z"
   },
   {
    "duration": 7,
    "start_time": "2022-09-22T16:22:23.052Z"
   },
   {
    "duration": 7,
    "start_time": "2022-09-22T16:23:21.147Z"
   },
   {
    "duration": 4,
    "start_time": "2022-09-22T16:25:25.595Z"
   },
   {
    "duration": 7,
    "start_time": "2022-09-22T16:25:28.748Z"
   },
   {
    "duration": 8,
    "start_time": "2022-09-22T16:25:31.019Z"
   },
   {
    "duration": 41,
    "start_time": "2022-09-22T16:39:56.464Z"
   },
   {
    "duration": 149,
    "start_time": "2022-09-22T16:40:02.477Z"
   },
   {
    "duration": 16976,
    "start_time": "2022-09-22T16:40:46.240Z"
   },
   {
    "duration": 107136,
    "start_time": "2022-09-22T16:41:13.246Z"
   },
   {
    "duration": 3,
    "start_time": "2022-09-22T16:43:09.540Z"
   },
   {
    "duration": 3,
    "start_time": "2022-09-22T16:43:55.745Z"
   },
   {
    "duration": 108,
    "start_time": "2022-09-22T16:44:03.015Z"
   },
   {
    "duration": 7,
    "start_time": "2022-09-22T16:44:09.144Z"
   },
   {
    "duration": 132781,
    "start_time": "2022-09-22T16:45:26.049Z"
   },
   {
    "duration": 3,
    "start_time": "2022-09-22T16:47:56.282Z"
   },
   {
    "duration": 150,
    "start_time": "2022-09-22T16:48:02.976Z"
   },
   {
    "duration": 9,
    "start_time": "2022-09-22T16:48:06.103Z"
   },
   {
    "duration": 52,
    "start_time": "2022-09-22T16:50:01.468Z"
   },
   {
    "duration": 111,
    "start_time": "2022-09-22T16:50:04.340Z"
   },
   {
    "duration": 5,
    "start_time": "2022-09-22T16:50:09.845Z"
   },
   {
    "duration": 5,
    "start_time": "2022-09-22T17:05:27.350Z"
   },
   {
    "duration": 3,
    "start_time": "2022-09-22T17:15:37.998Z"
   },
   {
    "duration": 53,
    "start_time": "2022-09-22T17:15:38.003Z"
   },
   {
    "duration": 11,
    "start_time": "2022-09-22T17:15:38.058Z"
   },
   {
    "duration": 10,
    "start_time": "2022-09-22T17:15:38.070Z"
   },
   {
    "duration": 9,
    "start_time": "2022-09-22T17:15:38.083Z"
   },
   {
    "duration": 5,
    "start_time": "2022-09-22T17:15:38.094Z"
   },
   {
    "duration": 153,
    "start_time": "2022-09-22T17:15:38.100Z"
   },
   {
    "duration": 11,
    "start_time": "2022-09-22T17:15:38.254Z"
   },
   {
    "duration": 9,
    "start_time": "2022-09-22T17:15:38.267Z"
   },
   {
    "duration": 5,
    "start_time": "2022-09-22T17:15:38.277Z"
   },
   {
    "duration": 11,
    "start_time": "2022-09-22T17:15:38.283Z"
   },
   {
    "duration": 4,
    "start_time": "2022-09-22T17:15:38.296Z"
   },
   {
    "duration": 10,
    "start_time": "2022-09-22T17:15:38.302Z"
   },
   {
    "duration": 12,
    "start_time": "2022-09-22T17:15:38.313Z"
   },
   {
    "duration": 7,
    "start_time": "2022-09-22T17:15:38.326Z"
   },
   {
    "duration": 13,
    "start_time": "2022-09-22T17:15:38.334Z"
   },
   {
    "duration": 10,
    "start_time": "2022-09-22T17:15:38.348Z"
   },
   {
    "duration": 11,
    "start_time": "2022-09-22T17:15:40.738Z"
   },
   {
    "duration": 8,
    "start_time": "2022-09-22T17:15:46.700Z"
   },
   {
    "duration": 10,
    "start_time": "2022-09-22T17:16:55.644Z"
   },
   {
    "duration": 4,
    "start_time": "2022-09-22T17:17:00.499Z"
   },
   {
    "duration": 84,
    "start_time": "2022-09-22T17:17:00.505Z"
   },
   {
    "duration": 11,
    "start_time": "2022-09-22T17:17:00.591Z"
   },
   {
    "duration": 37,
    "start_time": "2022-09-22T17:17:00.604Z"
   },
   {
    "duration": 20,
    "start_time": "2022-09-22T17:17:00.642Z"
   },
   {
    "duration": 5,
    "start_time": "2022-09-22T17:17:00.664Z"
   },
   {
    "duration": 104,
    "start_time": "2022-09-22T17:17:00.671Z"
   },
   {
    "duration": 10,
    "start_time": "2022-09-22T17:17:00.777Z"
   },
   {
    "duration": 19,
    "start_time": "2022-09-22T17:17:00.788Z"
   },
   {
    "duration": 6,
    "start_time": "2022-09-22T17:17:00.809Z"
   },
   {
    "duration": 35,
    "start_time": "2022-09-22T17:17:00.816Z"
   },
   {
    "duration": 14,
    "start_time": "2022-09-22T17:17:00.853Z"
   },
   {
    "duration": 20,
    "start_time": "2022-09-22T17:17:00.869Z"
   },
   {
    "duration": 15,
    "start_time": "2022-09-22T17:17:00.890Z"
   },
   {
    "duration": 11,
    "start_time": "2022-09-22T17:17:00.907Z"
   },
   {
    "duration": 22,
    "start_time": "2022-09-22T17:17:00.919Z"
   },
   {
    "duration": 13,
    "start_time": "2022-09-22T17:17:00.942Z"
   },
   {
    "duration": 17,
    "start_time": "2022-09-22T17:17:02.957Z"
   },
   {
    "duration": 10,
    "start_time": "2022-09-22T17:17:04.918Z"
   },
   {
    "duration": 5,
    "start_time": "2022-09-22T17:17:25.216Z"
   },
   {
    "duration": 8,
    "start_time": "2022-09-22T17:17:27.214Z"
   },
   {
    "duration": 7,
    "start_time": "2022-09-22T17:17:28.982Z"
   },
   {
    "duration": 8,
    "start_time": "2022-09-22T17:17:30.959Z"
   },
   {
    "duration": 6,
    "start_time": "2022-09-22T17:17:34.919Z"
   },
   {
    "duration": 75,
    "start_time": "2022-09-22T17:17:37.449Z"
   },
   {
    "duration": 7,
    "start_time": "2022-09-22T17:17:39.662Z"
   },
   {
    "duration": 3,
    "start_time": "2022-09-22T17:17:53.844Z"
   },
   {
    "duration": 5,
    "start_time": "2022-09-22T17:17:56.407Z"
   },
   {
    "duration": 106,
    "start_time": "2022-09-22T17:17:58.216Z"
   },
   {
    "duration": 5,
    "start_time": "2022-09-22T17:18:02.359Z"
   },
   {
    "duration": 17700,
    "start_time": "2022-09-22T17:18:47.801Z"
   },
   {
    "duration": 3,
    "start_time": "2022-09-22T17:19:10.977Z"
   },
   {
    "duration": 6,
    "start_time": "2022-09-22T17:19:14.343Z"
   },
   {
    "duration": 8,
    "start_time": "2022-09-22T17:19:16.699Z"
   },
   {
    "duration": 7,
    "start_time": "2022-09-22T17:19:20.160Z"
   },
   {
    "duration": 4,
    "start_time": "2022-09-22T17:19:46.980Z"
   },
   {
    "duration": 109,
    "start_time": "2022-09-22T17:19:50.301Z"
   },
   {
    "duration": 5,
    "start_time": "2022-09-22T17:19:53.552Z"
   },
   {
    "duration": 5,
    "start_time": "2022-09-22T17:19:55.824Z"
   },
   {
    "duration": 132045,
    "start_time": "2022-09-22T17:20:10.452Z"
   },
   {
    "duration": 3,
    "start_time": "2022-09-22T17:22:59.856Z"
   },
   {
    "duration": 140,
    "start_time": "2022-09-22T17:23:02.910Z"
   },
   {
    "duration": 7,
    "start_time": "2022-09-22T17:23:04.896Z"
   },
   {
    "duration": 49,
    "start_time": "2022-09-22T17:23:12.597Z"
   },
   {
    "duration": 111,
    "start_time": "2022-09-22T17:23:15.015Z"
   },
   {
    "duration": 6,
    "start_time": "2022-09-22T17:23:17.408Z"
   },
   {
    "duration": 36,
    "start_time": "2022-09-22T17:31:27.093Z"
   },
   {
    "duration": 8,
    "start_time": "2022-09-22T17:31:29.663Z"
   },
   {
    "duration": 13,
    "start_time": "2022-09-22T17:36:10.576Z"
   },
   {
    "duration": 104,
    "start_time": "2022-09-22T17:36:12.710Z"
   },
   {
    "duration": 5,
    "start_time": "2022-09-22T17:36:15.284Z"
   },
   {
    "duration": 100,
    "start_time": "2022-09-22T17:38:48.782Z"
   },
   {
    "duration": 18605,
    "start_time": "2022-09-22T17:39:30.465Z"
   },
   {
    "duration": 4,
    "start_time": "2022-09-22T17:40:04.482Z"
   },
   {
    "duration": 6,
    "start_time": "2022-09-22T17:40:10.151Z"
   },
   {
    "duration": 7,
    "start_time": "2022-09-22T17:40:13.064Z"
   },
   {
    "duration": 5,
    "start_time": "2022-09-22T17:41:30.215Z"
   },
   {
    "duration": 121,
    "start_time": "2022-09-22T17:41:35.154Z"
   },
   {
    "duration": 5,
    "start_time": "2022-09-22T17:41:38.092Z"
   },
   {
    "duration": 5519,
    "start_time": "2022-09-22T17:44:56.591Z"
   },
   {
    "duration": 22405,
    "start_time": "2022-09-22T17:45:19.442Z"
   },
   {
    "duration": 4,
    "start_time": "2022-09-22T17:45:47.905Z"
   },
   {
    "duration": 6,
    "start_time": "2022-09-22T17:45:52.267Z"
   },
   {
    "duration": 7,
    "start_time": "2022-09-22T17:45:58.511Z"
   },
   {
    "duration": 4,
    "start_time": "2022-09-22T17:46:24.001Z"
   },
   {
    "duration": 125,
    "start_time": "2022-09-22T17:46:26.407Z"
   },
   {
    "duration": 5,
    "start_time": "2022-09-22T17:46:29.532Z"
   },
   {
    "duration": 130978,
    "start_time": "2022-09-22T17:51:15.160Z"
   },
   {
    "duration": 3,
    "start_time": "2022-09-22T17:53:34.759Z"
   },
   {
    "duration": 74,
    "start_time": "2022-09-22T17:53:42.343Z"
   },
   {
    "duration": 9,
    "start_time": "2022-09-22T17:53:44.733Z"
   },
   {
    "duration": 25,
    "start_time": "2022-09-22T17:53:58.917Z"
   },
   {
    "duration": 115,
    "start_time": "2022-09-22T17:54:04.265Z"
   },
   {
    "duration": 5,
    "start_time": "2022-09-22T17:54:07.065Z"
   },
   {
    "duration": 132091,
    "start_time": "2022-09-22T17:56:02.332Z"
   },
   {
    "duration": 3,
    "start_time": "2022-09-22T17:58:37.733Z"
   },
   {
    "duration": 132,
    "start_time": "2022-09-22T17:58:45.069Z"
   },
   {
    "duration": 7,
    "start_time": "2022-09-22T17:58:47.146Z"
   },
   {
    "duration": 233011,
    "start_time": "2022-09-22T17:59:15.242Z"
   },
   {
    "duration": 3,
    "start_time": "2022-09-22T18:04:19.035Z"
   },
   {
    "duration": 149,
    "start_time": "2022-09-22T18:04:23.403Z"
   },
   {
    "duration": 9,
    "start_time": "2022-09-22T18:04:26.620Z"
   },
   {
    "duration": 133289,
    "start_time": "2022-09-22T18:04:40.042Z"
   },
   {
    "duration": 5,
    "start_time": "2022-09-22T18:11:54.260Z"
   },
   {
    "duration": 117,
    "start_time": "2022-09-22T18:11:57.160Z"
   },
   {
    "duration": 8,
    "start_time": "2022-09-22T18:11:59.911Z"
   },
   {
    "duration": 41,
    "start_time": "2022-09-22T18:12:09.099Z"
   },
   {
    "duration": 125,
    "start_time": "2022-09-22T18:12:11.695Z"
   },
   {
    "duration": 6,
    "start_time": "2022-09-22T18:12:14.166Z"
   },
   {
    "duration": 21597,
    "start_time": "2022-09-22T18:14:55.219Z"
   },
   {
    "duration": 3,
    "start_time": "2022-09-22T18:15:20.271Z"
   },
   {
    "duration": 9,
    "start_time": "2022-09-22T18:15:27.971Z"
   },
   {
    "duration": 9,
    "start_time": "2022-09-22T18:15:30.483Z"
   },
   {
    "duration": 23359,
    "start_time": "2022-09-22T18:15:47.075Z"
   },
   {
    "duration": 4,
    "start_time": "2022-09-22T18:16:15.292Z"
   },
   {
    "duration": 8,
    "start_time": "2022-09-22T18:16:17.739Z"
   },
   {
    "duration": 7,
    "start_time": "2022-09-22T18:16:19.184Z"
   },
   {
    "duration": 5,
    "start_time": "2022-09-22T18:16:22.693Z"
   },
   {
    "duration": 116,
    "start_time": "2022-09-22T18:16:24.206Z"
   },
   {
    "duration": 7,
    "start_time": "2022-09-22T18:16:26.549Z"
   },
   {
    "duration": 21711,
    "start_time": "2022-09-22T18:18:47.992Z"
   },
   {
    "duration": 3,
    "start_time": "2022-09-22T18:19:31.647Z"
   },
   {
    "duration": 137,
    "start_time": "2022-09-22T18:19:40.548Z"
   },
   {
    "duration": 11521,
    "start_time": "2022-09-22T18:20:37.737Z"
   },
   {
    "duration": 123,
    "start_time": "2022-09-22T18:20:54.815Z"
   },
   {
    "duration": 16093,
    "start_time": "2022-09-22T18:21:31.069Z"
   },
   {
    "duration": 121,
    "start_time": "2022-09-22T18:21:50.747Z"
   },
   {
    "duration": 43,
    "start_time": "2022-09-22T18:21:55.466Z"
   },
   {
    "duration": 119,
    "start_time": "2022-09-22T18:21:57.042Z"
   },
   {
    "duration": 8610,
    "start_time": "2022-09-22T18:22:29.637Z"
   },
   {
    "duration": 141,
    "start_time": "2022-09-22T18:22:53.458Z"
   },
   {
    "duration": 15596,
    "start_time": "2022-09-22T18:22:59.616Z"
   },
   {
    "duration": 223371,
    "start_time": "2022-09-22T18:23:53.343Z"
   },
   {
    "duration": 145,
    "start_time": "2022-09-22T18:27:47.404Z"
   },
   {
    "duration": 7409,
    "start_time": "2022-09-22T18:30:11.199Z"
   },
   {
    "duration": 198,
    "start_time": "2022-09-22T18:30:20.498Z"
   },
   {
    "duration": 4355,
    "start_time": "2022-09-22T18:30:29.112Z"
   },
   {
    "duration": 153,
    "start_time": "2022-09-22T18:30:35.408Z"
   },
   {
    "duration": 7451,
    "start_time": "2022-09-22T18:30:42.084Z"
   },
   {
    "duration": 11692,
    "start_time": "2022-09-22T18:31:11.083Z"
   },
   {
    "duration": 176,
    "start_time": "2022-09-22T18:31:26.784Z"
   },
   {
    "duration": 11644,
    "start_time": "2022-09-22T18:31:47.836Z"
   },
   {
    "duration": 154,
    "start_time": "2022-09-22T18:32:05.567Z"
   },
   {
    "duration": 11408,
    "start_time": "2022-09-22T18:32:25.585Z"
   },
   {
    "duration": 150,
    "start_time": "2022-09-22T18:32:42.311Z"
   },
   {
    "duration": 3010,
    "start_time": "2022-09-22T18:33:20.590Z"
   },
   {
    "duration": 158,
    "start_time": "2022-09-22T18:33:26.274Z"
   },
   {
    "duration": 11485,
    "start_time": "2022-09-22T18:33:58.488Z"
   },
   {
    "duration": 129,
    "start_time": "2022-09-22T18:34:15.332Z"
   },
   {
    "duration": 11733,
    "start_time": "2022-09-22T18:34:22.784Z"
   },
   {
    "duration": 132,
    "start_time": "2022-09-22T18:34:39.790Z"
   },
   {
    "duration": 3002,
    "start_time": "2022-09-22T18:34:47.283Z"
   },
   {
    "duration": 151,
    "start_time": "2022-09-22T18:34:52.420Z"
   },
   {
    "duration": 3157,
    "start_time": "2022-09-22T18:34:59.685Z"
   },
   {
    "duration": 155,
    "start_time": "2022-09-22T18:35:05.004Z"
   },
   {
    "duration": 2992,
    "start_time": "2022-09-22T18:35:12.009Z"
   },
   {
    "duration": 148,
    "start_time": "2022-09-22T18:35:16.862Z"
   },
   {
    "duration": 5117,
    "start_time": "2022-09-22T18:35:21.835Z"
   },
   {
    "duration": 142,
    "start_time": "2022-09-22T18:35:29.134Z"
   },
   {
    "duration": 3079,
    "start_time": "2022-09-22T18:35:34.060Z"
   },
   {
    "duration": 54,
    "start_time": "2022-09-22T18:35:44.732Z"
   },
   {
    "duration": 124,
    "start_time": "2022-09-22T18:35:47.346Z"
   },
   {
    "duration": 5,
    "start_time": "2022-09-22T18:35:49.574Z"
   },
   {
    "duration": 5,
    "start_time": "2022-09-22T18:45:14.996Z"
   },
   {
    "duration": 5,
    "start_time": "2022-09-22T18:46:37.892Z"
   },
   {
    "duration": 1061,
    "start_time": "2022-09-22T18:49:37.610Z"
   },
   {
    "duration": 1325,
    "start_time": "2022-09-22T18:50:37.483Z"
   },
   {
    "duration": 1016,
    "start_time": "2022-09-22T18:51:11.948Z"
   },
   {
    "duration": 1460,
    "start_time": "2022-09-22T18:51:27.114Z"
   },
   {
    "duration": 64,
    "start_time": "2022-09-22T19:06:40.211Z"
   },
   {
    "duration": 109,
    "start_time": "2022-09-22T19:06:42.938Z"
   },
   {
    "duration": 7,
    "start_time": "2022-09-22T19:06:46.045Z"
   },
   {
    "duration": 26,
    "start_time": "2022-09-22T19:37:06.893Z"
   },
   {
    "duration": 4,
    "start_time": "2022-09-22T19:37:29.276Z"
   },
   {
    "duration": 10,
    "start_time": "2022-09-22T19:37:36.216Z"
   },
   {
    "duration": 162,
    "start_time": "2022-09-22T19:38:18.572Z"
   },
   {
    "duration": 13,
    "start_time": "2022-09-22T19:38:46.876Z"
   },
   {
    "duration": 72,
    "start_time": "2022-09-22T19:38:49.258Z"
   },
   {
    "duration": 10,
    "start_time": "2022-09-22T19:38:55.984Z"
   },
   {
    "duration": 114,
    "start_time": "2022-09-22T19:38:58.016Z"
   },
   {
    "duration": 10,
    "start_time": "2022-09-22T19:39:13.524Z"
   },
   {
    "duration": 132,
    "start_time": "2022-09-22T19:39:15.398Z"
   },
   {
    "duration": 13,
    "start_time": "2022-09-22T19:39:26.756Z"
   },
   {
    "duration": 352,
    "start_time": "2022-09-22T19:41:39.775Z"
   },
   {
    "duration": 6,
    "start_time": "2022-09-22T19:41:53.486Z"
   },
   {
    "duration": 377,
    "start_time": "2022-09-22T19:42:07.763Z"
   },
   {
    "duration": 14089,
    "start_time": "2022-09-22T19:47:52.712Z"
   },
   {
    "duration": 13916,
    "start_time": "2022-09-22T19:48:13.116Z"
   },
   {
    "duration": 14,
    "start_time": "2022-09-22T19:48:45.562Z"
   },
   {
    "duration": 23440,
    "start_time": "2022-09-22T19:48:59.622Z"
   },
   {
    "duration": 17,
    "start_time": "2022-09-22T19:49:35.412Z"
   },
   {
    "duration": 24004,
    "start_time": "2022-09-22T19:49:40.010Z"
   },
   {
    "duration": 14,
    "start_time": "2022-09-22T19:50:07.031Z"
   },
   {
    "duration": 12,
    "start_time": "2022-09-22T19:54:50.160Z"
   },
   {
    "duration": 1481,
    "start_time": "2022-09-22T19:55:13.795Z"
   },
   {
    "duration": 151,
    "start_time": "2022-09-22T19:55:17.686Z"
   },
   {
    "duration": 1235,
    "start_time": "2022-09-22T23:04:53.474Z"
   },
   {
    "duration": 46,
    "start_time": "2022-09-22T23:04:54.711Z"
   },
   {
    "duration": 14,
    "start_time": "2022-09-22T23:04:54.759Z"
   },
   {
    "duration": 6,
    "start_time": "2022-09-22T23:04:54.775Z"
   },
   {
    "duration": 12,
    "start_time": "2022-09-22T23:04:54.782Z"
   },
   {
    "duration": 5,
    "start_time": "2022-09-22T23:04:54.795Z"
   },
   {
    "duration": 91,
    "start_time": "2022-09-22T23:04:54.801Z"
   },
   {
    "duration": 10,
    "start_time": "2022-09-22T23:04:54.894Z"
   },
   {
    "duration": 12,
    "start_time": "2022-09-22T23:04:54.905Z"
   },
   {
    "duration": 6,
    "start_time": "2022-09-22T23:04:54.920Z"
   },
   {
    "duration": 16,
    "start_time": "2022-09-22T23:04:54.928Z"
   },
   {
    "duration": 15,
    "start_time": "2022-09-22T23:04:54.945Z"
   },
   {
    "duration": 14,
    "start_time": "2022-09-22T23:04:54.961Z"
   },
   {
    "duration": 8,
    "start_time": "2022-09-22T23:04:54.977Z"
   },
   {
    "duration": 6,
    "start_time": "2022-09-22T23:04:54.987Z"
   },
   {
    "duration": 12,
    "start_time": "2022-09-22T23:04:54.995Z"
   },
   {
    "duration": 17,
    "start_time": "2022-09-22T23:04:55.009Z"
   },
   {
    "duration": 26,
    "start_time": "2022-09-22T23:04:55.028Z"
   },
   {
    "duration": 9,
    "start_time": "2022-09-22T23:04:55.055Z"
   },
   {
    "duration": 4,
    "start_time": "2022-09-22T23:04:55.065Z"
   },
   {
    "duration": 7,
    "start_time": "2022-09-22T23:04:55.070Z"
   },
   {
    "duration": 5,
    "start_time": "2022-09-22T23:04:55.079Z"
   },
   {
    "duration": 37,
    "start_time": "2022-09-22T23:04:55.085Z"
   },
   {
    "duration": 5,
    "start_time": "2022-09-22T23:04:55.123Z"
   },
   {
    "duration": 392,
    "start_time": "2022-09-22T23:04:55.130Z"
   },
   {
    "duration": 100,
    "start_time": "2022-09-22T23:04:55.524Z"
   },
   {
    "duration": 5,
    "start_time": "2022-09-22T23:04:55.626Z"
   },
   {
    "duration": 5,
    "start_time": "2022-09-22T23:04:55.634Z"
   },
   {
    "duration": 283,
    "start_time": "2022-09-22T23:04:55.641Z"
   },
   {
    "duration": 6,
    "start_time": "2022-09-22T23:04:55.925Z"
   },
   {
    "duration": 18040,
    "start_time": "2022-09-22T23:04:55.932Z"
   },
   {
    "duration": 3,
    "start_time": "2022-09-22T23:05:13.974Z"
   },
   {
    "duration": 10,
    "start_time": "2022-09-22T23:05:13.978Z"
   },
   {
    "duration": 10,
    "start_time": "2022-09-22T23:05:13.990Z"
   },
   {
    "duration": 4,
    "start_time": "2022-09-22T23:05:14.001Z"
   },
   {
    "duration": 125,
    "start_time": "2022-09-22T23:05:14.006Z"
   },
   {
    "duration": 5,
    "start_time": "2022-09-22T23:05:14.132Z"
   },
   {
    "duration": 130353,
    "start_time": "2022-09-22T23:05:14.138Z"
   },
   {
    "duration": 3,
    "start_time": "2022-09-22T23:07:24.492Z"
   },
   {
    "duration": 148,
    "start_time": "2022-09-22T23:07:24.497Z"
   },
   {
    "duration": 7,
    "start_time": "2022-09-22T23:07:24.646Z"
   },
   {
    "duration": 45,
    "start_time": "2022-09-22T23:07:24.655Z"
   },
   {
    "duration": 130,
    "start_time": "2022-09-22T23:07:24.701Z"
   },
   {
    "duration": 4,
    "start_time": "2022-09-22T23:07:24.833Z"
   },
   {
    "duration": 4,
    "start_time": "2022-09-22T23:07:24.839Z"
   },
   {
    "duration": 279,
    "start_time": "2022-09-22T23:07:24.844Z"
   },
   {
    "duration": 200,
    "start_time": "2022-09-22T23:07:25.124Z"
   },
   {
    "duration": 105,
    "start_time": "2022-09-22T23:07:25.326Z"
   },
   {
    "duration": 96,
    "start_time": "2022-09-22T23:07:25.433Z"
   },
   {
    "duration": 291,
    "start_time": "2022-09-22T23:07:25.531Z"
   },
   {
    "duration": 5,
    "start_time": "2022-09-22T23:07:25.823Z"
   },
   {
    "duration": 13032,
    "start_time": "2022-09-22T23:07:25.829Z"
   },
   {
    "duration": 10,
    "start_time": "2022-09-22T23:07:38.863Z"
   },
   {
    "duration": 21337,
    "start_time": "2022-09-22T23:07:38.875Z"
   },
   {
    "duration": 18,
    "start_time": "2022-09-22T23:08:00.213Z"
   },
   {
    "duration": 5,
    "start_time": "2022-09-22T23:08:00.232Z"
   },
   {
    "duration": 126,
    "start_time": "2022-09-22T23:08:00.239Z"
   },
   {
    "duration": 4,
    "start_time": "2022-09-22T23:08:00.367Z"
   },
   {
    "duration": 10,
    "start_time": "2022-09-22T23:08:00.372Z"
   },
   {
    "duration": 1426,
    "start_time": "2022-09-22T23:08:00.384Z"
   },
   {
    "duration": 165,
    "start_time": "2022-09-22T23:08:01.812Z"
   },
   {
    "duration": 2947,
    "start_time": "2022-09-22T23:08:01.979Z"
   },
   {
    "duration": 145,
    "start_time": "2022-09-22T23:08:04.928Z"
   },
   {
    "duration": 51,
    "start_time": "2022-09-22T23:08:05.074Z"
   },
   {
    "duration": 113,
    "start_time": "2022-09-22T23:08:05.126Z"
   },
   {
    "duration": 5,
    "start_time": "2022-09-22T23:08:05.241Z"
   },
   {
    "duration": 8,
    "start_time": "2022-09-22T23:08:05.247Z"
   },
   {
    "duration": 1000,
    "start_time": "2022-09-22T23:08:05.256Z"
   },
   {
    "duration": 1289,
    "start_time": "2022-09-22T23:08:06.258Z"
   },
   {
    "duration": 49,
    "start_time": "2022-09-22T23:08:07.549Z"
   },
   {
    "duration": 135,
    "start_time": "2022-09-22T23:08:07.599Z"
   },
   {
    "duration": 5,
    "start_time": "2022-09-22T23:08:07.736Z"
   },
   {
    "duration": 88,
    "start_time": "2022-09-23T09:33:40.269Z"
   },
   {
    "duration": 37,
    "start_time": "2022-09-23T10:21:05.910Z"
   },
   {
    "duration": 1435,
    "start_time": "2022-09-23T10:21:10.705Z"
   },
   {
    "duration": 168,
    "start_time": "2022-09-23T10:21:12.142Z"
   },
   {
    "duration": 17,
    "start_time": "2022-09-23T10:21:12.311Z"
   },
   {
    "duration": 10,
    "start_time": "2022-09-23T10:21:12.330Z"
   },
   {
    "duration": 20,
    "start_time": "2022-09-23T10:21:12.341Z"
   },
   {
    "duration": 7,
    "start_time": "2022-09-23T10:21:12.363Z"
   },
   {
    "duration": 152,
    "start_time": "2022-09-23T10:21:12.372Z"
   },
   {
    "duration": 11,
    "start_time": "2022-09-23T10:21:12.526Z"
   },
   {
    "duration": 14,
    "start_time": "2022-09-23T10:21:12.538Z"
   },
   {
    "duration": 4,
    "start_time": "2022-09-23T10:21:12.555Z"
   },
   {
    "duration": 14,
    "start_time": "2022-09-23T10:21:12.561Z"
   },
   {
    "duration": 5,
    "start_time": "2022-09-23T10:21:12.576Z"
   },
   {
    "duration": 12,
    "start_time": "2022-09-23T10:21:12.582Z"
   },
   {
    "duration": 27,
    "start_time": "2022-09-23T10:21:12.595Z"
   },
   {
    "duration": 4,
    "start_time": "2022-09-23T10:21:12.624Z"
   },
   {
    "duration": 14,
    "start_time": "2022-09-23T10:21:12.630Z"
   },
   {
    "duration": 11,
    "start_time": "2022-09-23T10:21:12.645Z"
   },
   {
    "duration": 7,
    "start_time": "2022-09-23T10:21:12.657Z"
   },
   {
    "duration": 8,
    "start_time": "2022-09-23T10:21:12.665Z"
   },
   {
    "duration": 7,
    "start_time": "2022-09-23T10:21:12.674Z"
   },
   {
    "duration": 7,
    "start_time": "2022-09-23T10:21:12.683Z"
   },
   {
    "duration": 25,
    "start_time": "2022-09-23T10:21:16.765Z"
   },
   {
    "duration": 13,
    "start_time": "2022-09-23T10:22:10.943Z"
   },
   {
    "duration": 22,
    "start_time": "2022-09-23T10:23:14.590Z"
   },
   {
    "duration": 10,
    "start_time": "2022-09-23T10:23:21.678Z"
   },
   {
    "duration": 117,
    "start_time": "2022-09-23T10:24:19.410Z"
   },
   {
    "duration": 104,
    "start_time": "2022-09-23T10:24:24.007Z"
   },
   {
    "duration": 5,
    "start_time": "2022-09-23T10:24:35.583Z"
   },
   {
    "duration": 3,
    "start_time": "2022-09-23T10:25:54.253Z"
   },
   {
    "duration": 106,
    "start_time": "2022-09-23T10:26:01.039Z"
   },
   {
    "duration": 4,
    "start_time": "2022-09-23T10:26:12.333Z"
   },
   {
    "duration": 4,
    "start_time": "2022-09-23T10:26:18.403Z"
   },
   {
    "duration": 5,
    "start_time": "2022-09-23T10:26:25.595Z"
   },
   {
    "duration": 104,
    "start_time": "2022-09-23T10:26:32.164Z"
   },
   {
    "duration": 148,
    "start_time": "2022-09-23T10:32:18.356Z"
   },
   {
    "duration": 5,
    "start_time": "2022-09-23T10:32:29.819Z"
   },
   {
    "duration": 71,
    "start_time": "2022-09-23T10:32:47.555Z"
   },
   {
    "duration": 82,
    "start_time": "2022-09-23T10:33:08.239Z"
   },
   {
    "duration": 92,
    "start_time": "2022-09-23T10:33:28.093Z"
   },
   {
    "duration": 93,
    "start_time": "2022-09-23T10:33:42.238Z"
   },
   {
    "duration": 89,
    "start_time": "2022-09-23T10:33:57.494Z"
   },
   {
    "duration": 84,
    "start_time": "2022-09-23T10:34:07.577Z"
   },
   {
    "duration": 99,
    "start_time": "2022-09-23T10:34:11.958Z"
   },
   {
    "duration": 82,
    "start_time": "2022-09-23T10:34:24.353Z"
   },
   {
    "duration": 84,
    "start_time": "2022-09-23T10:34:46.361Z"
   },
   {
    "duration": 80,
    "start_time": "2022-09-23T10:35:08.035Z"
   },
   {
    "duration": 165,
    "start_time": "2022-09-23T10:40:16.930Z"
   },
   {
    "duration": 81,
    "start_time": "2022-09-23T10:40:58.083Z"
   },
   {
    "duration": 80,
    "start_time": "2022-09-23T10:42:12.868Z"
   },
   {
    "duration": 80,
    "start_time": "2022-09-23T10:42:20.448Z"
   },
   {
    "duration": 83,
    "start_time": "2022-09-23T10:42:24.981Z"
   },
   {
    "duration": 35,
    "start_time": "2022-09-23T10:43:23.492Z"
   },
   {
    "duration": 8,
    "start_time": "2022-09-23T10:43:26.888Z"
   },
   {
    "duration": 4,
    "start_time": "2022-09-23T10:43:34.486Z"
   },
   {
    "duration": 5,
    "start_time": "2022-09-23T10:43:37.279Z"
   },
   {
    "duration": 110,
    "start_time": "2022-09-23T10:43:39.550Z"
   },
   {
    "duration": 5,
    "start_time": "2022-09-23T10:43:42.769Z"
   },
   {
    "duration": 4,
    "start_time": "2022-09-23T10:45:31.587Z"
   },
   {
    "duration": 69,
    "start_time": "2022-09-23T10:45:52.559Z"
   },
   {
    "duration": 87,
    "start_time": "2022-09-23T10:46:34.041Z"
   },
   {
    "duration": 7,
    "start_time": "2022-09-23T10:46:36.796Z"
   },
   {
    "duration": 52,
    "start_time": "2022-09-23T10:48:11.276Z"
   },
   {
    "duration": 60,
    "start_time": "2022-09-23T10:48:12.770Z"
   },
   {
    "duration": 30,
    "start_time": "2022-09-23T10:48:17.508Z"
   },
   {
    "duration": 9,
    "start_time": "2022-09-23T10:48:19.700Z"
   },
   {
    "duration": 169,
    "start_time": "2022-09-23T10:59:59.753Z"
   },
   {
    "duration": 91,
    "start_time": "2022-09-23T11:00:02.438Z"
   },
   {
    "duration": 6,
    "start_time": "2022-09-23T11:00:04.693Z"
   },
   {
    "duration": 12323,
    "start_time": "2022-09-23T11:00:41.148Z"
   },
   {
    "duration": 12304,
    "start_time": "2022-09-23T11:01:35.072Z"
   },
   {
    "duration": 18,
    "start_time": "2022-09-23T11:02:49.530Z"
   },
   {
    "duration": 11,
    "start_time": "2022-09-23T11:03:08.395Z"
   },
   {
    "duration": 21987,
    "start_time": "2022-09-23T11:03:37.437Z"
   },
   {
    "duration": 15,
    "start_time": "2022-09-23T11:04:22.186Z"
   },
   {
    "duration": 5,
    "start_time": "2022-09-23T11:04:34.390Z"
   },
   {
    "duration": 117,
    "start_time": "2022-09-23T11:04:36.662Z"
   },
   {
    "duration": 5,
    "start_time": "2022-09-23T11:04:39.799Z"
   },
   {
    "duration": 1385,
    "start_time": "2022-09-23T11:12:19.464Z"
   },
   {
    "duration": 151,
    "start_time": "2022-09-23T11:12:29.725Z"
   },
   {
    "duration": 3088,
    "start_time": "2022-09-23T11:12:45.111Z"
   },
   {
    "duration": 150,
    "start_time": "2022-09-23T11:12:51.483Z"
   },
   {
    "duration": 50,
    "start_time": "2022-09-23T11:12:59.687Z"
   },
   {
    "duration": 114,
    "start_time": "2022-09-23T11:13:01.408Z"
   },
   {
    "duration": 5,
    "start_time": "2022-09-23T11:13:02.881Z"
   },
   {
    "duration": 1286,
    "start_time": "2022-09-23T11:17:44.871Z"
   },
   {
    "duration": 51,
    "start_time": "2022-09-23T11:17:46.159Z"
   },
   {
    "duration": 18,
    "start_time": "2022-09-23T11:17:46.211Z"
   },
   {
    "duration": 7,
    "start_time": "2022-09-23T11:17:46.232Z"
   },
   {
    "duration": 11,
    "start_time": "2022-09-23T11:17:46.240Z"
   },
   {
    "duration": 6,
    "start_time": "2022-09-23T11:17:46.252Z"
   },
   {
    "duration": 48,
    "start_time": "2022-09-23T11:17:46.259Z"
   },
   {
    "duration": 10,
    "start_time": "2022-09-23T11:17:46.309Z"
   },
   {
    "duration": 8,
    "start_time": "2022-09-23T11:17:46.321Z"
   },
   {
    "duration": 4,
    "start_time": "2022-09-23T11:17:46.331Z"
   },
   {
    "duration": 13,
    "start_time": "2022-09-23T11:17:46.336Z"
   },
   {
    "duration": 10,
    "start_time": "2022-09-23T11:17:46.350Z"
   },
   {
    "duration": 14,
    "start_time": "2022-09-23T11:17:46.362Z"
   },
   {
    "duration": 7,
    "start_time": "2022-09-23T11:17:46.377Z"
   },
   {
    "duration": 11,
    "start_time": "2022-09-23T11:17:46.385Z"
   },
   {
    "duration": 13,
    "start_time": "2022-09-23T11:17:46.397Z"
   },
   {
    "duration": 8,
    "start_time": "2022-09-23T11:17:46.422Z"
   },
   {
    "duration": 7,
    "start_time": "2022-09-23T11:17:46.432Z"
   },
   {
    "duration": 10,
    "start_time": "2022-09-23T11:17:46.440Z"
   },
   {
    "duration": 6,
    "start_time": "2022-09-23T11:17:46.451Z"
   },
   {
    "duration": 13,
    "start_time": "2022-09-23T11:17:46.459Z"
   },
   {
    "duration": 27,
    "start_time": "2022-09-23T11:17:46.473Z"
   },
   {
    "duration": 20,
    "start_time": "2022-09-23T11:17:46.502Z"
   },
   {
    "duration": 6,
    "start_time": "2022-09-23T11:17:46.524Z"
   },
   {
    "duration": 103,
    "start_time": "2022-09-23T11:17:46.532Z"
   },
   {
    "duration": 93,
    "start_time": "2022-09-23T11:17:46.637Z"
   },
   {
    "duration": 96,
    "start_time": "2022-09-23T11:17:46.731Z"
   },
   {
    "duration": 91,
    "start_time": "2022-09-23T11:17:46.832Z"
   },
   {
    "duration": 19,
    "start_time": "2022-09-23T11:17:46.925Z"
   },
   {
    "duration": 282,
    "start_time": "2022-09-23T11:17:46.947Z"
   },
   {
    "duration": 5,
    "start_time": "2022-09-23T11:17:47.231Z"
   },
   {
    "duration": 17669,
    "start_time": "2022-09-23T11:17:47.237Z"
   },
   {
    "duration": 3,
    "start_time": "2022-09-23T11:18:04.908Z"
   },
   {
    "duration": 6,
    "start_time": "2022-09-23T11:18:04.921Z"
   },
   {
    "duration": 8,
    "start_time": "2022-09-23T11:18:04.929Z"
   },
   {
    "duration": 4,
    "start_time": "2022-09-23T11:18:04.938Z"
   },
   {
    "duration": 122,
    "start_time": "2022-09-23T11:18:04.943Z"
   },
   {
    "duration": 5,
    "start_time": "2022-09-23T11:18:05.066Z"
   },
   {
    "duration": 136408,
    "start_time": "2022-09-23T11:18:05.073Z"
   },
   {
    "duration": 3,
    "start_time": "2022-09-23T11:20:21.483Z"
   },
   {
    "duration": 169,
    "start_time": "2022-09-23T11:20:21.487Z"
   },
   {
    "duration": 9,
    "start_time": "2022-09-23T11:20:21.657Z"
   },
   {
    "duration": 64,
    "start_time": "2022-09-23T11:20:21.667Z"
   },
   {
    "duration": 126,
    "start_time": "2022-09-23T11:20:21.732Z"
   },
   {
    "duration": 5,
    "start_time": "2022-09-23T11:20:21.860Z"
   },
   {
    "duration": 6,
    "start_time": "2022-09-23T11:20:21.866Z"
   },
   {
    "duration": 157,
    "start_time": "2022-09-23T11:20:21.873Z"
   },
   {
    "duration": 200,
    "start_time": "2022-09-23T11:20:22.122Z"
   },
   {
    "duration": 107,
    "start_time": "2022-09-23T11:20:22.323Z"
   },
   {
    "duration": 6,
    "start_time": "2022-09-23T11:20:22.431Z"
   },
   {
    "duration": 304,
    "start_time": "2022-09-23T11:20:22.438Z"
   },
   {
    "duration": 4,
    "start_time": "2022-09-23T11:20:22.744Z"
   },
   {
    "duration": 12468,
    "start_time": "2022-09-23T11:20:22.749Z"
   },
   {
    "duration": 11,
    "start_time": "2022-09-23T11:20:35.218Z"
   },
   {
    "duration": 22216,
    "start_time": "2022-09-23T11:20:35.230Z"
   },
   {
    "duration": 15,
    "start_time": "2022-09-23T11:20:57.448Z"
   },
   {
    "duration": 4,
    "start_time": "2022-09-23T11:20:57.464Z"
   },
   {
    "duration": 128,
    "start_time": "2022-09-23T11:20:57.470Z"
   },
   {
    "duration": 4,
    "start_time": "2022-09-23T11:20:57.600Z"
   },
   {
    "duration": 1373,
    "start_time": "2022-09-23T11:20:57.606Z"
   },
   {
    "duration": 144,
    "start_time": "2022-09-23T11:20:58.980Z"
   },
   {
    "duration": 3067,
    "start_time": "2022-09-23T11:20:59.125Z"
   },
   {
    "duration": 161,
    "start_time": "2022-09-23T11:21:02.193Z"
   },
   {
    "duration": 55,
    "start_time": "2022-09-23T11:21:02.356Z"
   },
   {
    "duration": 133,
    "start_time": "2022-09-23T11:21:02.413Z"
   },
   {
    "duration": 7,
    "start_time": "2022-09-23T11:21:02.548Z"
   },
   {
    "duration": 9,
    "start_time": "2022-09-23T11:21:02.556Z"
   },
   {
    "duration": 1028,
    "start_time": "2022-09-23T11:21:02.567Z"
   },
   {
    "duration": 1310,
    "start_time": "2022-09-23T11:21:03.597Z"
   },
   {
    "duration": 61,
    "start_time": "2022-09-23T11:21:04.909Z"
   },
   {
    "duration": 137,
    "start_time": "2022-09-23T11:21:04.971Z"
   },
   {
    "duration": 12,
    "start_time": "2022-09-23T11:21:05.110Z"
   },
   {
    "duration": 91,
    "start_time": "2022-09-23T11:30:04.514Z"
   },
   {
    "duration": 159,
    "start_time": "2022-09-23T11:30:15.892Z"
   },
   {
    "duration": 87,
    "start_time": "2022-09-23T11:30:47.018Z"
   },
   {
    "duration": 1337,
    "start_time": "2022-09-23T11:31:09.501Z"
   },
   {
    "duration": 46,
    "start_time": "2022-09-23T11:31:10.840Z"
   },
   {
    "duration": 15,
    "start_time": "2022-09-23T11:31:10.888Z"
   },
   {
    "duration": 6,
    "start_time": "2022-09-23T11:31:10.906Z"
   },
   {
    "duration": 11,
    "start_time": "2022-09-23T11:31:10.913Z"
   },
   {
    "duration": 5,
    "start_time": "2022-09-23T11:31:10.925Z"
   },
   {
    "duration": 139,
    "start_time": "2022-09-23T11:31:10.932Z"
   },
   {
    "duration": 12,
    "start_time": "2022-09-23T11:31:11.072Z"
   },
   {
    "duration": 10,
    "start_time": "2022-09-23T11:31:11.086Z"
   },
   {
    "duration": 5,
    "start_time": "2022-09-23T11:31:11.098Z"
   },
   {
    "duration": 15,
    "start_time": "2022-09-23T11:31:11.104Z"
   },
   {
    "duration": 6,
    "start_time": "2022-09-23T11:31:11.120Z"
   },
   {
    "duration": 12,
    "start_time": "2022-09-23T11:31:11.127Z"
   },
   {
    "duration": 7,
    "start_time": "2022-09-23T11:31:11.140Z"
   },
   {
    "duration": 7,
    "start_time": "2022-09-23T11:31:11.149Z"
   },
   {
    "duration": 12,
    "start_time": "2022-09-23T11:31:11.157Z"
   },
   {
    "duration": 10,
    "start_time": "2022-09-23T11:31:11.170Z"
   },
   {
    "duration": 10,
    "start_time": "2022-09-23T11:31:11.181Z"
   },
   {
    "duration": 11,
    "start_time": "2022-09-23T11:31:11.192Z"
   },
   {
    "duration": 20,
    "start_time": "2022-09-23T11:31:11.204Z"
   },
   {
    "duration": 9,
    "start_time": "2022-09-23T11:31:11.225Z"
   },
   {
    "duration": 28,
    "start_time": "2022-09-23T11:31:11.235Z"
   },
   {
    "duration": 9,
    "start_time": "2022-09-23T11:31:11.264Z"
   },
   {
    "duration": 6,
    "start_time": "2022-09-23T11:31:11.275Z"
   },
   {
    "duration": 128,
    "start_time": "2022-09-23T11:31:11.282Z"
   },
   {
    "duration": 119,
    "start_time": "2022-09-23T11:31:11.411Z"
   },
   {
    "duration": 198,
    "start_time": "2022-09-23T11:31:11.531Z"
   },
   {
    "duration": 5,
    "start_time": "2022-09-23T11:31:11.732Z"
   },
   {
    "duration": 9,
    "start_time": "2022-09-23T11:31:11.738Z"
   },
   {
    "duration": 277,
    "start_time": "2022-09-23T11:31:11.749Z"
   },
   {
    "duration": 5,
    "start_time": "2022-09-23T11:31:12.027Z"
   },
   {
    "duration": 17492,
    "start_time": "2022-09-23T11:31:12.034Z"
   },
   {
    "duration": 3,
    "start_time": "2022-09-23T11:31:29.528Z"
   },
   {
    "duration": 10,
    "start_time": "2022-09-23T11:31:29.532Z"
   },
   {
    "duration": 7,
    "start_time": "2022-09-23T11:31:29.544Z"
   },
   {
    "duration": 4,
    "start_time": "2022-09-23T11:31:29.552Z"
   },
   {
    "duration": 143,
    "start_time": "2022-09-23T11:31:29.558Z"
   },
   {
    "duration": 5,
    "start_time": "2022-09-23T11:31:29.702Z"
   },
   {
    "duration": 135676,
    "start_time": "2022-09-23T11:31:29.709Z"
   },
   {
    "duration": 3,
    "start_time": "2022-09-23T11:33:45.387Z"
   },
   {
    "duration": 155,
    "start_time": "2022-09-23T11:33:45.391Z"
   },
   {
    "duration": 7,
    "start_time": "2022-09-23T11:33:45.548Z"
   },
   {
    "duration": 50,
    "start_time": "2022-09-23T11:33:45.556Z"
   },
   {
    "duration": 130,
    "start_time": "2022-09-23T11:33:45.607Z"
   },
   {
    "duration": 5,
    "start_time": "2022-09-23T11:33:45.738Z"
   },
   {
    "duration": 5,
    "start_time": "2022-09-23T11:33:45.744Z"
   },
   {
    "duration": 179,
    "start_time": "2022-09-23T11:33:45.751Z"
   },
   {
    "duration": 207,
    "start_time": "2022-09-23T11:33:46.022Z"
   },
   {
    "duration": 192,
    "start_time": "2022-09-23T11:33:46.231Z"
   },
   {
    "duration": 7,
    "start_time": "2022-09-23T11:33:46.424Z"
   },
   {
    "duration": 289,
    "start_time": "2022-09-23T11:33:46.432Z"
   },
   {
    "duration": 4,
    "start_time": "2022-09-23T11:33:46.723Z"
   },
   {
    "duration": 11989,
    "start_time": "2022-09-23T11:33:46.729Z"
   },
   {
    "duration": 11,
    "start_time": "2022-09-23T11:33:58.721Z"
   },
   {
    "duration": 21835,
    "start_time": "2022-09-23T11:33:58.733Z"
   },
   {
    "duration": 10,
    "start_time": "2022-09-23T11:34:20.570Z"
   },
   {
    "duration": 4,
    "start_time": "2022-09-23T11:34:20.581Z"
   },
   {
    "duration": 121,
    "start_time": "2022-09-23T11:34:20.587Z"
   },
   {
    "duration": 13,
    "start_time": "2022-09-23T11:34:20.709Z"
   },
   {
    "duration": 1371,
    "start_time": "2022-09-23T11:34:20.723Z"
   },
   {
    "duration": 137,
    "start_time": "2022-09-23T11:34:22.095Z"
   },
   {
    "duration": 3000,
    "start_time": "2022-09-23T11:34:22.233Z"
   },
   {
    "duration": 154,
    "start_time": "2022-09-23T11:34:25.235Z"
   },
   {
    "duration": 52,
    "start_time": "2022-09-23T11:34:25.390Z"
   },
   {
    "duration": 113,
    "start_time": "2022-09-23T11:34:25.444Z"
   },
   {
    "duration": 5,
    "start_time": "2022-09-23T11:34:25.559Z"
   },
   {
    "duration": 7,
    "start_time": "2022-09-23T11:34:25.565Z"
   },
   {
    "duration": 1023,
    "start_time": "2022-09-23T11:34:25.573Z"
   },
   {
    "duration": 1375,
    "start_time": "2022-09-23T11:34:26.598Z"
   },
   {
    "duration": 61,
    "start_time": "2022-09-23T11:34:27.975Z"
   },
   {
    "duration": 138,
    "start_time": "2022-09-23T11:34:28.038Z"
   },
   {
    "duration": 6,
    "start_time": "2022-09-23T11:34:28.178Z"
   }
  ],
  "kernelspec": {
   "display_name": "Python 3 (ipykernel)",
   "language": "python",
   "name": "python3"
  },
  "language_info": {
   "codemirror_mode": {
    "name": "ipython",
    "version": 3
   },
   "file_extension": ".py",
   "mimetype": "text/x-python",
   "name": "python",
   "nbconvert_exporter": "python",
   "pygments_lexer": "ipython3",
   "version": "3.10.0"
  },
  "toc": {
   "base_numbering": 1,
   "nav_menu": {},
   "number_sections": true,
   "sideBar": true,
   "skip_h1_title": true,
   "title_cell": "Содержание",
   "title_sidebar": "Contents",
   "toc_cell": true,
   "toc_position": {
    "height": "calc(100% - 180px)",
    "left": "10px",
    "top": "150px",
    "width": "204px"
   },
   "toc_section_display": true,
   "toc_window_display": true
  }
 },
 "nbformat": 4,
 "nbformat_minor": 2
}
